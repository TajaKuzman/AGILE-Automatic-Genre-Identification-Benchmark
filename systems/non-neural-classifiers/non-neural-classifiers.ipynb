{
 "cells": [
  {
   "attachments": {},
   "cell_type": "markdown",
   "metadata": {},
   "source": [
    "# Experiments with Baseline Classifiers"
   ]
  },
  {
   "cell_type": "markdown",
   "metadata": {},
   "source": [
    "I apply traditional non-neural classifiers to the test data: dummy classifier, Naive Bayes classifier, Logistic Regression, SVM and others."
   ]
  },
  {
   "cell_type": "code",
   "execution_count": 15,
   "metadata": {
    "execution": {
     "iopub.execute_input": "2022-02-11T10:14:19.885851Z",
     "iopub.status.busy": "2022-02-11T10:14:19.885492Z",
     "iopub.status.idle": "2022-02-11T10:14:19.915615Z",
     "shell.execute_reply": "2022-02-11T10:14:19.914828Z",
     "shell.execute_reply.started": "2022-02-11T10:14:19.885763Z"
    },
    "trusted": true
   },
   "outputs": [],
   "source": [
    "import pandas as pd\n",
    "import numpy as np\n",
    "import json\n",
    "import sklearn.model_selection\n",
    "from sklearn import metrics\n",
    "from sklearn.metrics import f1_score\n",
    "from sklearn.pipeline import make_pipeline\n",
    "from sklearn.naive_bayes import MultinomialNB,ComplementNB\n",
    "from sklearn.linear_model import LogisticRegression\n",
    "from sklearn.svm import SVC\n",
    "from sklearn.ensemble import RandomForestClassifier\n",
    "from sklearn.tree import DecisionTreeClassifier\n",
    "from sklearn.metrics import ConfusionMatrixDisplay\n",
    "import sklearn.feature_extraction\n",
    "from sklearn.svm import SVC\n",
    "from datasets import load_dataset"
   ]
  },
  {
   "cell_type": "code",
   "execution_count": 6,
   "metadata": {},
   "outputs": [
    {
     "name": "stdout",
     "output_type": "stream",
     "text": [
      "(1772, 4)\n"
     ]
    }
   ],
   "source": [
    "# Load the X-GENRE datasets from Hugging Face\n",
    "train = load_dataset(\"TajaKuzman/X-GENRE-text-genre-dataset\", \"train\")\n",
    "\n",
    "\n",
    "# To open them as Pandas DataFrame:\n",
    "df_train = pd.DataFrame(train[\"train\"])\n",
    "\n",
    "print(df_train.shape)"
   ]
  },
  {
   "cell_type": "code",
   "execution_count": 5,
   "metadata": {},
   "outputs": [
    {
     "name": "stdout",
     "output_type": "stream",
     "text": [
      "(272, 4) (790, 6)\n"
     ]
    }
   ],
   "source": [
    "# Load the test datasets from the GitHub repositories (access to them is obtained by request to the AGILE repository owner)\n",
    "\n",
    "en_ginco = pd.read_json(\"../../datasets/EN-GINCO-test-dataset/EN-GINCO.jsonl\", lines=True)\n",
    "x_ginco = pd.read_json(\"../../datasets/X-GINCO-test-set/X-GINCO.jsonl\", lines=True)\n",
    "\n",
    "print(en_ginco.shape, x_ginco.shape)"
   ]
  },
  {
   "cell_type": "code",
   "execution_count": 17,
   "metadata": {},
   "outputs": [
    {
     "data": {
      "text/html": [
       "<div>\n",
       "<style scoped>\n",
       "    .dataframe tbody tr th:only-of-type {\n",
       "        vertical-align: middle;\n",
       "    }\n",
       "\n",
       "    .dataframe tbody tr th {\n",
       "        vertical-align: top;\n",
       "    }\n",
       "\n",
       "    .dataframe thead th {\n",
       "        text-align: right;\n",
       "    }\n",
       "</style>\n",
       "<table border=\"1\" class=\"dataframe\">\n",
       "  <thead>\n",
       "    <tr style=\"text-align: right;\">\n",
       "      <th></th>\n",
       "      <th>text</th>\n",
       "      <th>labels</th>\n",
       "      <th>dataset</th>\n",
       "      <th>language</th>\n",
       "    </tr>\n",
       "  </thead>\n",
       "  <tbody>\n",
       "    <tr>\n",
       "      <th>0</th>\n",
       "      <td>Welcome to KBismarck.org! This is a community ...</td>\n",
       "      <td>Information/Explanation</td>\n",
       "      <td>EN-GINCO</td>\n",
       "      <td>English</td>\n",
       "    </tr>\n",
       "  </tbody>\n",
       "</table>\n",
       "</div>"
      ],
      "text/plain": [
       "                                                text                   labels  \\\n",
       "0  Welcome to KBismarck.org! This is a community ...  Information/Explanation   \n",
       "\n",
       "    dataset language  \n",
       "0  EN-GINCO  English  "
      ]
     },
     "execution_count": 17,
     "metadata": {},
     "output_type": "execute_result"
    }
   ],
   "source": [
    "en_ginco.head(1)"
   ]
  },
  {
   "cell_type": "code",
   "execution_count": 7,
   "metadata": {},
   "outputs": [
    {
     "data": {
      "text/html": [
       "<div>\n",
       "<style scoped>\n",
       "    .dataframe tbody tr th:only-of-type {\n",
       "        vertical-align: middle;\n",
       "    }\n",
       "\n",
       "    .dataframe tbody tr th {\n",
       "        vertical-align: top;\n",
       "    }\n",
       "\n",
       "    .dataframe thead th {\n",
       "        text-align: right;\n",
       "    }\n",
       "</style>\n",
       "<table border=\"1\" class=\"dataframe\">\n",
       "  <thead>\n",
       "    <tr style=\"text-align: right;\">\n",
       "      <th></th>\n",
       "      <th>text</th>\n",
       "      <th>labels</th>\n",
       "      <th>dataset</th>\n",
       "      <th>language</th>\n",
       "    </tr>\n",
       "  </thead>\n",
       "  <tbody>\n",
       "    <tr>\n",
       "      <th>count</th>\n",
       "      <td>1772</td>\n",
       "      <td>1772</td>\n",
       "      <td>1772</td>\n",
       "      <td>1772</td>\n",
       "    </tr>\n",
       "    <tr>\n",
       "      <th>unique</th>\n",
       "      <td>1772</td>\n",
       "      <td>9</td>\n",
       "      <td>3</td>\n",
       "      <td>2</td>\n",
       "    </tr>\n",
       "    <tr>\n",
       "      <th>top</th>\n",
       "      <td>Harry Potter and the Philosopher's Stone - J. ...</td>\n",
       "      <td>News</td>\n",
       "      <td>FTD</td>\n",
       "      <td>English</td>\n",
       "    </tr>\n",
       "    <tr>\n",
       "      <th>freq</th>\n",
       "      <td>1</td>\n",
       "      <td>344</td>\n",
       "      <td>630</td>\n",
       "      <td>1237</td>\n",
       "    </tr>\n",
       "  </tbody>\n",
       "</table>\n",
       "</div>"
      ],
      "text/plain": [
       "                                                     text labels dataset  \\\n",
       "count                                                1772   1772    1772   \n",
       "unique                                               1772      9       3   \n",
       "top     Harry Potter and the Philosopher's Stone - J. ...   News     FTD   \n",
       "freq                                                    1    344     630   \n",
       "\n",
       "       language  \n",
       "count      1772  \n",
       "unique        2  \n",
       "top     English  \n",
       "freq       1237  "
      ]
     },
     "execution_count": 7,
     "metadata": {},
     "output_type": "execute_result"
    }
   ],
   "source": [
    "df_train.describe(include=\"all\")"
   ]
  },
  {
   "cell_type": "code",
   "execution_count": 8,
   "metadata": {},
   "outputs": [
    {
     "name": "stdout",
     "output_type": "stream",
     "text": [
      "1772 1772\n"
     ]
    }
   ],
   "source": [
    "# Create X_train and Y_train parts, used for sci kit learning\n",
    "# List of texts in training split\n",
    "X_train = list(df_train.text)\n",
    "# List of labels in training split\n",
    "Y_train = list(df_train.labels)\n",
    "\n",
    "\n",
    "print(len(X_train), len(Y_train))"
   ]
  },
  {
   "cell_type": "code",
   "execution_count": 9,
   "metadata": {},
   "outputs": [
    {
     "data": {
      "text/plain": [
       "['Other',\n",
       " 'Information/Explanation',\n",
       " 'News',\n",
       " 'Instruction',\n",
       " 'Opinion/Argumentation',\n",
       " 'Forum',\n",
       " 'Prose/Lyrical',\n",
       " 'Legal',\n",
       " 'Promotion']"
      ]
     },
     "execution_count": 9,
     "metadata": {},
     "output_type": "execute_result"
    }
   ],
   "source": [
    "# Create a list of labels\n",
    "labels = list(df_train.labels.unique())\n",
    "labels"
   ]
  },
  {
   "attachments": {},
   "cell_type": "markdown",
   "metadata": {},
   "source": [
    "## Creating Sci-Kit classifiers"
   ]
  },
  {
   "cell_type": "code",
   "execution_count": 10,
   "metadata": {},
   "outputs": [],
   "source": [
    "# Create a TF-IDF representation of the text\n",
    "def data_iterator(f):\n",
    "    for token in f:\n",
    "        yield token\n",
    "\n",
    "\n",
    "def tokenizer(txt):\n",
    "    \"\"\"Simple whitespace tokenizer\"\"\"\n",
    "    return txt.split()"
   ]
  },
  {
   "cell_type": "code",
   "execution_count": 11,
   "metadata": {},
   "outputs": [
    {
     "name": "stderr",
     "output_type": "stream",
     "text": [
      "/home/tajak/miniconda3/envs/IPTC_env/lib/python3.11/site-packages/sklearn/feature_extraction/text.py:521: UserWarning: The parameter 'token_pattern' will not be used since 'tokenizer' is not None'\n",
      "  warnings.warn(\n"
     ]
    }
   ],
   "source": [
    "iterator=data_iterator(X_train)\n",
    "\n",
    "vectorizer=sklearn.feature_extraction.text.TfidfVectorizer(tokenizer=tokenizer,use_idf=True,min_df=0.005)\n",
    "d=vectorizer.fit_transform(iterator)"
   ]
  },
  {
   "cell_type": "code",
   "execution_count": 12,
   "metadata": {},
   "outputs": [],
   "source": [
    "# Create a pipeline of models that you want to try:\n",
    "\n",
    "pipelines=[]\n",
    "\n",
    "#for model in [DummyClassifier(strategy=\"most_frequent\"), DummyClassifier(strategy=\"stratified\"), DecisionTreeClassifier(), MultinomialNB(), ComplementNB(), LogisticRegression(), SVC(),RandomForestClassifier()]:\n",
    "for model in [ComplementNB(), LogisticRegression(penalty=None), SVC(kernel=\"linear\", C=2)]:\n",
    "    pipeline=make_pipeline(model)\n",
    "    pipelines.append(pipeline)"
   ]
  },
  {
   "cell_type": "code",
   "execution_count": 13,
   "metadata": {},
   "outputs": [],
   "source": [
    "for i, pipeline in enumerate(pipelines):\n",
    "    pipeline.fit(d, Y_train)"
   ]
  },
  {
   "cell_type": "code",
   "execution_count": 22,
   "metadata": {},
   "outputs": [],
   "source": [
    "def classify(df_test, df_test_name, pipelines = pipelines):\n",
    "\n",
    "\t# List of texts in test split\n",
    "\tX_test = list(df_test.text)\n",
    "\t# List of labels in test split\n",
    "\tY_test = list(df_test.labels)\n",
    "\n",
    "\ttest_iterator=data_iterator(X_test)\n",
    "\td_test=vectorizer.transform(test_iterator)\n",
    "\n",
    "\tprint(len(X_test), len(Y_test))\n",
    "\n",
    "\tfor i, pipeline in enumerate(pipelines):\n",
    "\t\ty_pred=list(pipeline.predict(d_test))\n",
    "\t\tmodel_name = pipelines[i].steps[0][0].upper()\n",
    "\t\tmodel_name = model_name.split(\"(\")[0]\n",
    "\n",
    "\t\t# Create a json with results\n",
    "\t\tcurrent_results = {\n",
    "\t\t\t\"system\": model_name,\n",
    "\t\t\t\"predictions\": [\n",
    "\t\t\t\t{\n",
    "\t\t\t\t\"train\": \"X-GENRE (train split)\",\n",
    "\t\t\t\t\"test\": \"{}\".format(df_test_name),\n",
    "\t\t\t\t\"predictions\": y_pred,\n",
    "\t\t\t\t}\n",
    "\t\t\t]\n",
    "\t\t\t}\n",
    "\n",
    "\t\t# Save the results as a new json\n",
    "\t\twith open(\"submissions/submission-{}-{}.json\".format(model_name, df_test_name), \"w\") as file:\n",
    "\t\t\tjson.dump(current_results, file)\n",
    "\n",
    "\t\tprint(\"Classification with {} on {} finished.\".format(model_name, df_test_name))\n"
   ]
  },
  {
   "cell_type": "code",
   "execution_count": 24,
   "metadata": {},
   "outputs": [
    {
     "name": "stdout",
     "output_type": "stream",
     "text": [
      "272 272\n",
      "Classification with COMPLEMENTNB on en-ginco finished.\n",
      "Classification with LOGISTICREGRESSION on en-ginco finished.\n",
      "Classification with SVC on en-ginco finished.\n"
     ]
    }
   ],
   "source": [
    "classify(en_ginco, \"en-ginco\", pipelines)"
   ]
  },
  {
   "cell_type": "code",
   "execution_count": 25,
   "metadata": {},
   "outputs": [
    {
     "name": "stdout",
     "output_type": "stream",
     "text": [
      "790 790\n",
      "Classification with COMPLEMENTNB on x-ginco finished.\n",
      "Classification with LOGISTICREGRESSION on x-ginco finished.\n",
      "Classification with SVC on x-ginco finished.\n"
     ]
    }
   ],
   "source": [
    "classify(x_ginco, \"x-ginco\", pipelines)"
   ]
  }
 ],
 "metadata": {
  "kernelspec": {
   "display_name": "IPTC_env",
   "language": "python",
   "name": "python3"
  },
  "language_info": {
   "codemirror_mode": {
    "name": "ipython",
    "version": 3
   },
   "file_extension": ".py",
   "mimetype": "text/x-python",
   "name": "python",
   "nbconvert_exporter": "python",
   "pygments_lexer": "ipython3",
   "version": "3.11.10"
  }
 },
 "nbformat": 4,
 "nbformat_minor": 4
}
