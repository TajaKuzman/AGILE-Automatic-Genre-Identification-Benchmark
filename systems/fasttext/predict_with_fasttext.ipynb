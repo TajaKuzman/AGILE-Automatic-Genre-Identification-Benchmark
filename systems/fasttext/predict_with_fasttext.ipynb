{
 "cells": [
  {
   "cell_type": "code",
   "execution_count": 1,
   "metadata": {},
   "outputs": [
    {
     "name": "stdout",
     "output_type": "stream",
     "text": [
      "env: CUDA_DEVICE_ORDER=PCI_BUS_ID\n",
      "env: CUDA_VISIBLE_DEVICES=1\n"
     ]
    }
   ],
   "source": [
    "%env CUDA_DEVICE_ORDER=PCI_BUS_ID\n",
    "%env CUDA_VISIBLE_DEVICES=1"
   ]
  },
  {
   "cell_type": "code",
   "execution_count": null,
   "metadata": {},
   "outputs": [],
   "source": [
    "# Install and import fastText\n",
    "!wget https://github.com/facebookresearch/fastText/archive/v0.9.2.zip\n",
    "!unzip v0.9.2.zip\n"
   ]
  },
  {
   "cell_type": "code",
   "execution_count": 10,
   "metadata": {},
   "outputs": [],
   "source": [
    "import zipfile\n",
    "with zipfile.ZipFile(\"v0.9.2.zip\", 'r') as zip_ref:\n",
    "    zip_ref.extractall(\"v0.9.2\")"
   ]
  },
  {
   "cell_type": "code",
   "execution_count": null,
   "metadata": {},
   "outputs": [],
   "source": [
    "%cd v0.9.2\n",
    "%cd fastText-0.9.2\n",
    "\n",
    "!pip install ."
   ]
  },
  {
   "cell_type": "code",
   "execution_count": 13,
   "metadata": {},
   "outputs": [],
   "source": [
    "import pandas as pd\n",
    "import numpy as np\n",
    "from datasets import load_dataset\n",
    "import parse\n",
    "import fasttext as ft"
   ]
  },
  {
   "cell_type": "markdown",
   "metadata": {},
   "source": [
    "## Prepare the datasets for training and evaluation with the fastText model"
   ]
  },
  {
   "cell_type": "code",
   "execution_count": 3,
   "metadata": {},
   "outputs": [
    {
     "name": "stdout",
     "output_type": "stream",
     "text": [
      "(1772, 4)\n"
     ]
    }
   ],
   "source": [
    "# Load the X-GENRE datasets from Hugging Face\n",
    "train = load_dataset(\"TajaKuzman/X-GENRE-text-genre-dataset\", \"train\")\n",
    "\n",
    "\n",
    "# To open them as Pandas DataFrame:\n",
    "df_train = pd.DataFrame(train[\"train\"])\n",
    "\n",
    "print(df_train.shape)"
   ]
  },
  {
   "cell_type": "code",
   "execution_count": 4,
   "metadata": {},
   "outputs": [
    {
     "name": "stdout",
     "output_type": "stream",
     "text": [
      "(272, 4) (790, 6)\n"
     ]
    }
   ],
   "source": [
    "# Load the test datasets from the GitHub repositories (access to them is obtained by request to the AGILE repository owner)\n",
    "\n",
    "en_ginco = pd.read_json(\"../../datasets/EN-GINCO-test-dataset/EN-GINCO.jsonl\", lines=True)\n",
    "x_ginco = pd.read_json(\"../../datasets/X-GINCO-test-set/X-GINCO.jsonl\", lines=True)\n",
    "\n",
    "print(en_ginco.shape, x_ginco.shape)"
   ]
  },
  {
   "cell_type": "code",
   "execution_count": 5,
   "metadata": {},
   "outputs": [
    {
     "data": {
      "text/html": [
       "<div>\n",
       "<style scoped>\n",
       "    .dataframe tbody tr th:only-of-type {\n",
       "        vertical-align: middle;\n",
       "    }\n",
       "\n",
       "    .dataframe tbody tr th {\n",
       "        vertical-align: top;\n",
       "    }\n",
       "\n",
       "    .dataframe thead th {\n",
       "        text-align: right;\n",
       "    }\n",
       "</style>\n",
       "<table border=\"1\" class=\"dataframe\">\n",
       "  <thead>\n",
       "    <tr style=\"text-align: right;\">\n",
       "      <th></th>\n",
       "      <th>text</th>\n",
       "      <th>labels</th>\n",
       "      <th>language</th>\n",
       "      <th>dataset</th>\n",
       "      <th>text_id</th>\n",
       "      <th>translation</th>\n",
       "    </tr>\n",
       "  </thead>\n",
       "  <tbody>\n",
       "    <tr>\n",
       "      <th>0</th>\n",
       "      <td>Angelo Chetcuti, se jkun qed jieħu post Bjorn ...</td>\n",
       "      <td>News</td>\n",
       "      <td>Maltese</td>\n",
       "      <td>MaCoCu</td>\n",
       "      <td>macocu.mt.402244</td>\n",
       "      <td>Angelo Chetcuti, will be replacing Bjorn Vassa...</td>\n",
       "    </tr>\n",
       "    <tr>\n",
       "      <th>1</th>\n",
       "      <td>Poltergeist jirreferi għal fenomeni oħra tal-m...</td>\n",
       "      <td>Opinion/Argumentation</td>\n",
       "      <td>Maltese</td>\n",
       "      <td>MaCoCu</td>\n",
       "      <td>macocu.mt.377203</td>\n",
       "      <td>Poltergeist refers to other woman's phenomena,...</td>\n",
       "    </tr>\n",
       "    <tr>\n",
       "      <th>2</th>\n",
       "      <td>Chrysler: Brand ta 'lussu jew le? \\n\\nBrand ji...</td>\n",
       "      <td>Opinion/Argumentation</td>\n",
       "      <td>Maltese</td>\n",
       "      <td>MaCoCu</td>\n",
       "      <td>macocu.mt.109995</td>\n",
       "      <td>Chrysler: Luxury brand or not?\\n\\nBrand moves ...</td>\n",
       "    </tr>\n",
       "  </tbody>\n",
       "</table>\n",
       "</div>"
      ],
      "text/plain": [
       "                                                text                 labels  \\\n",
       "0  Angelo Chetcuti, se jkun qed jieħu post Bjorn ...                   News   \n",
       "1  Poltergeist jirreferi għal fenomeni oħra tal-m...  Opinion/Argumentation   \n",
       "2  Chrysler: Brand ta 'lussu jew le? \\n\\nBrand ji...  Opinion/Argumentation   \n",
       "\n",
       "  language dataset           text_id  \\\n",
       "0  Maltese  MaCoCu  macocu.mt.402244   \n",
       "1  Maltese  MaCoCu  macocu.mt.377203   \n",
       "2  Maltese  MaCoCu  macocu.mt.109995   \n",
       "\n",
       "                                         translation  \n",
       "0  Angelo Chetcuti, will be replacing Bjorn Vassa...  \n",
       "1  Poltergeist refers to other woman's phenomena,...  \n",
       "2  Chrysler: Luxury brand or not?\\n\\nBrand moves ...  "
      ]
     },
     "execution_count": 5,
     "metadata": {},
     "output_type": "execute_result"
    }
   ],
   "source": [
    "x_ginco.head(3)"
   ]
  },
  {
   "cell_type": "code",
   "execution_count": 6,
   "metadata": {},
   "outputs": [
    {
     "data": {
      "text/html": [
       "<div>\n",
       "<style scoped>\n",
       "    .dataframe tbody tr th:only-of-type {\n",
       "        vertical-align: middle;\n",
       "    }\n",
       "\n",
       "    .dataframe tbody tr th {\n",
       "        vertical-align: top;\n",
       "    }\n",
       "\n",
       "    .dataframe thead th {\n",
       "        text-align: right;\n",
       "    }\n",
       "</style>\n",
       "<table border=\"1\" class=\"dataframe\">\n",
       "  <thead>\n",
       "    <tr style=\"text-align: right;\">\n",
       "      <th></th>\n",
       "      <th>text</th>\n",
       "      <th>labels</th>\n",
       "      <th>dataset</th>\n",
       "      <th>language</th>\n",
       "    </tr>\n",
       "  </thead>\n",
       "  <tbody>\n",
       "    <tr>\n",
       "      <th>0</th>\n",
       "      <td>Seeking All Things Brilliant \"I want people to...</td>\n",
       "      <td>Other</td>\n",
       "      <td>CORE</td>\n",
       "      <td>English</td>\n",
       "    </tr>\n",
       "    <tr>\n",
       "      <th>1</th>\n",
       "      <td>Meet Orchid du Bois I first met Hayley Mowday ...</td>\n",
       "      <td>Other</td>\n",
       "      <td>CORE</td>\n",
       "      <td>English</td>\n",
       "    </tr>\n",
       "    <tr>\n",
       "      <th>2</th>\n",
       "      <td>Abstract Objective: Reporting bias due to soci...</td>\n",
       "      <td>Information/Explanation</td>\n",
       "      <td>CORE</td>\n",
       "      <td>English</td>\n",
       "    </tr>\n",
       "  </tbody>\n",
       "</table>\n",
       "</div>"
      ],
      "text/plain": [
       "                                                text                   labels  \\\n",
       "0  Seeking All Things Brilliant \"I want people to...                    Other   \n",
       "1  Meet Orchid du Bois I first met Hayley Mowday ...                    Other   \n",
       "2  Abstract Objective: Reporting bias due to soci...  Information/Explanation   \n",
       "\n",
       "  dataset language  \n",
       "0    CORE  English  \n",
       "1    CORE  English  \n",
       "2    CORE  English  "
      ]
     },
     "execution_count": 6,
     "metadata": {},
     "output_type": "execute_result"
    }
   ],
   "source": [
    "df_train.head(3)"
   ]
  },
  {
   "cell_type": "code",
   "execution_count": null,
   "metadata": {},
   "outputs": [],
   "source": [
    "# Creating FastText train and test files\n",
    "\n",
    "def fastText_files(df_train, x_ginco, en_ginco):\n",
    "    \"\"\"\n",
    "    This function creates and saves the test and train file(s).\n",
    "    \n",
    "    The function returns a list of the following elements:\n",
    "        - labels - which can be used for prediction and evaluation.\n",
    "        - train file path\n",
    "        - test file path\n",
    "    \"\"\"\n",
    "    x_ginco = x_ginco[[\"text\", \"labels\"]]\n",
    "    en_ginco = en_ginco[[\"text\", \"labels\"]]\n",
    "    \n",
    "    # Assure that the text contains no new lines\n",
    "    x_ginco[\"text\"] =  [text.replace(\"\\n\", \"\") for text in x_ginco.text.to_list()]\n",
    "    en_ginco[\"text\"] =  [text.replace(\"\\n\", \"\") for text in en_ginco.text.to_list()]\n",
    "    df_train[\"text\"] =  [text.replace(\"\\n\", \"\") for text in df_train.text.to_list()]\n",
    "\n",
    "    print(\"The shape of the dataframes:\")\n",
    "    print(df_train.shape, x_ginco.shape, en_ginco.shape)\n",
    "    \n",
    "    # Then create CSV files which FastText can read\n",
    "    \n",
    "    train_file_content=\"\"\n",
    "\n",
    "    for labels, text in df_train.loc[:, [\"labels\", \"text\"]].values:\n",
    "        label = f\"__label__{labels}\"\n",
    "        train_file_content += f\"\"\"{label} {text}\\n\"\"\"\n",
    "    \n",
    "    train_path = \"\"\n",
    "    train_path = \"data/x-genre-fasttext.train\"\n",
    "\n",
    "    with open(train_path,\"w\") as train_file:\n",
    "        train_file.write(train_file_content)\n",
    "    \n",
    "    train_example = open(train_path,\"r\").readlines()\n",
    "    print(\"Created train file:\")\n",
    "    print(train_example[:2])\n",
    "    print(\"Number of lines: {}\".format(len(train_example)))\n",
    "    \n",
    "    test_file_content_en=\"\"\n",
    "    \n",
    "    for labels, text in en_ginco.loc[:, [\"labels\", \"text\"]].values:\n",
    "        label = f\"__label__{labels}\"\n",
    "        test_file_content_en += f\"\"\"{label} {text}\\n\"\"\"\n",
    "    \n",
    "    test_path_en = \"\"\n",
    "    test_path_en = \"data/test-file-fasttext-en-ginco.test\"\n",
    "    \n",
    "    with open(test_path_en,\"w\") as test_file_en:\n",
    "        test_file_en.write(test_file_content_en)\n",
    "    \n",
    "    test_example = open(test_path_en,\"r\").readlines()\n",
    "    print(\"Created test file:\")\n",
    "    print(test_example[:2])\n",
    "    print(\"Number of lines: {}\".format(len(test_example)))\n",
    "\n",
    "    test_file_content_x=\"\"\n",
    "    \n",
    "    for labels, text in x_ginco.loc[:, [\"labels\", \"text\"]].values:\n",
    "        label = f\"__label__{labels}\"\n",
    "        test_file_content_x += f\"\"\"{label} {text}\\n\"\"\"\n",
    "    \n",
    "    test_path_x = \"\"\n",
    "    test_path_x = \"data/test-file-fasttext-x-ginco.test\"\n",
    "    \n",
    "    with open(test_path_x,\"w\") as test_file_x:\n",
    "        test_file_x.write(test_file_content_x)\n",
    "    \n",
    "    test_example = open(test_path_x,\"r\").readlines()\n",
    "    print(\"Created test file:\")\n",
    "    print(test_example[:2])\n",
    "    print(\"Number of lines: {}\".format(len(test_example)))\n",
    "\n",
    "    \n",
    "    # Finally, create a list of labels which can be used for prediction and evaluation.\n",
    "    # Let's inspect the labels:\n",
    "    all_df_labels = df_train[\"labels\"].unique().tolist()\n",
    "    \n",
    "    for i in x_ginco[\"labels\"].unique().tolist():\n",
    "        if i not in all_df_labels:\n",
    "            all_df_labels.append(i)\n",
    "    \n",
    "    for i in en_ginco[\"labels\"].unique().tolist():\n",
    "        if i not in all_df_labels:\n",
    "            all_df_labels.append(i)\n",
    "\n",
    "    print(f\"Number of all labels: {len(all_df_labels)}\")\n",
    "    \n",
    "    # Create a final list of labels in a FastText-appropriate format:\n",
    "    LABELS = df_train.labels.unique().tolist()\n",
    "    LABELS = [f\"__label__{i}\" for i in LABELS]\n",
    "    \n",
    "    return_list = [LABELS, train_path, test_path_en, test_path_x]\n",
    "    print(f\"The function returned the following list: {return_list}\")\n",
    "    \n",
    "    return return_list\n",
    "\n",
    "fasttext_dict = fastText_files(df_train, x_ginco, en_ginco)\n",
    "\n",
    "print(fasttext_dict)"
   ]
  },
  {
   "cell_type": "code",
   "execution_count": 14,
   "metadata": {},
   "outputs": [],
   "source": [
    "def prediction_to_label(prediction):\n",
    "    \"\"\"Transforms predictions as returned by fasttext into pure labels.\"\"\"\n",
    "    return np.array(prediction[0])[:, 0]\n",
    "\n",
    "# Parsing test file\n",
    "def parse_test_file(path: str):\n",
    "    \"\"\"Reads fasttext formatted file and returns labels, texts.\"\"\"\n",
    "    with open(path, \"r\") as f:\n",
    "        content = f.readlines()\n",
    "    pattern = \"{label} {text}\\n\"\n",
    "    p = parse.compile(pattern)\n",
    "\n",
    "    labels, texts = list(), list()\n",
    "    for line in content:\n",
    "        rez = p.parse(line)\n",
    "        if rez is not None:\n",
    "            labels.append(rez[\"label\"])\n",
    "            texts.append(rez[\"text\"])\n",
    "        else:\n",
    "            print(\"error parsing line \", line)\n",
    "    return labels, texts"
   ]
  },
  {
   "cell_type": "markdown",
   "metadata": {},
   "source": [
    "Train the model"
   ]
  },
  {
   "cell_type": "code",
   "execution_count": 19,
   "metadata": {},
   "outputs": [
    {
     "name": "stderr",
     "output_type": "stream",
     "text": [
      "Read 1M words\n",
      "Number of words:  163798\n",
      "Number of labels: 9\n",
      "Progress: 100.0% words/sec/thread:  146863 lr:  0.000000 avg.loss:  0.247710 ETA:   0h 0m 0s  3.5% words/sec/thread:  149828 lr:  0.096489 avg.loss:  2.010013 ETA:   0h 0m17s\n"
     ]
    }
   ],
   "source": [
    "# Train fasttext model   \n",
    "model = ft.train_supervised(input=\"data/x-genre-fasttext.train\",\n",
    "                            epoch = 350,\n",
    "                            wordNgrams=1,\n",
    "                            verbose = 2\n",
    "                                        )"
   ]
  },
  {
   "cell_type": "markdown",
   "metadata": {},
   "source": [
    "Apply the model"
   ]
  },
  {
   "cell_type": "code",
   "execution_count": 20,
   "metadata": {},
   "outputs": [],
   "source": [
    "def predict(df_test_name):\n",
    "\timport json\n",
    "\n",
    "\ttest_file_paths = {\n",
    "\t\t\"en-ginco\": \"data/test-file-fasttext-en-ginco.test\",\n",
    "\t\t\"x-ginco\": \"data/test-file-fasttext-x-ginco.test\"\n",
    "\t}\n",
    "\t\n",
    "\t# Parse the test files so that labels and texts are separated\n",
    "\ty_true, y_texts = parse_test_file(test_file_paths[df_test_name])\n",
    "\n",
    "\t# Evaluate the model on test data\n",
    "\ty_pred = model.predict(y_texts)\n",
    "\ty_pred = prediction_to_label(y_pred)\n",
    "\n",
    "\ty_pred = [x.replace(\"__label__\", \"\") for x in y_pred]\n",
    "\n",
    "\t# Create a json with results\n",
    "\n",
    "\tcurrent_results = {\n",
    "\t\t\"system\": \"fastText\",\n",
    "\t\t\"predictions\": [\n",
    "\t\t\t{\n",
    "\t\t\t\"train\": \"X-GENRE (train split)\",\n",
    "\t\t\t\"test\": \"{}\".format(df_test_name),\n",
    "\t\t\t\"predictions\": y_pred,\n",
    "\t\t\t}\n",
    "\t\t]\n",
    "\t\t}\n",
    "\n",
    "\t# Save the results as a new json\n",
    "\twith open(\"submissions/submission-{}-{}.json\".format(\"fastText\", df_test_name), \"w\") as file:\n",
    "\t\tjson.dump(current_results, file)\n",
    "\n",
    "\tprint(\"Classification with {} on {} finished.\".format(\"fastText\", df_test_name))"
   ]
  },
  {
   "cell_type": "code",
   "execution_count": 21,
   "metadata": {},
   "outputs": [
    {
     "name": "stdout",
     "output_type": "stream",
     "text": [
      "Classification with fastText on x-ginco finished.\n"
     ]
    }
   ],
   "source": [
    "predict(\"x-ginco\")"
   ]
  },
  {
   "cell_type": "code",
   "execution_count": 22,
   "metadata": {},
   "outputs": [
    {
     "name": "stdout",
     "output_type": "stream",
     "text": [
      "Classification with fastText on en-ginco finished.\n"
     ]
    }
   ],
   "source": [
    "predict(\"en-ginco\")"
   ]
  }
 ],
 "metadata": {
  "kernelspec": {
   "display_name": "IPTC_env",
   "language": "python",
   "name": "python3"
  },
  "language_info": {
   "codemirror_mode": {
    "name": "ipython",
    "version": 3
   },
   "file_extension": ".py",
   "mimetype": "text/x-python",
   "name": "python",
   "nbconvert_exporter": "python",
   "pygments_lexer": "ipython3",
   "version": "3.11.10"
  }
 },
 "nbformat": 4,
 "nbformat_minor": 4
}
