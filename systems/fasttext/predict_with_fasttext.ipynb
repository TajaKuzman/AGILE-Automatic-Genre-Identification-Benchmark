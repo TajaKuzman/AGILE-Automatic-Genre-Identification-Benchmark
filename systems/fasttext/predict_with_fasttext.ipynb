{
 "cells": [
  {
   "cell_type": "code",
   "execution_count": 2,
   "metadata": {},
   "outputs": [
    {
     "name": "stderr",
     "output_type": "stream",
     "text": [
      "/home/tajak/miniconda3/envs/IPTC_env/lib/python3.11/site-packages/tqdm/auto.py:21: TqdmWarning: IProgress not found. Please update jupyter and ipywidgets. See https://ipywidgets.readthedocs.io/en/stable/user_install.html\n",
      "  from .autonotebook import tqdm as notebook_tqdm\n"
     ]
    }
   ],
   "source": [
    "import pandas as pd\n",
    "import numpy as np\n",
    "from datasets import load_dataset"
   ]
  },
  {
   "cell_type": "markdown",
   "metadata": {},
   "source": [
    "## Prepare the datasets for training and evaluation with the fastText model"
   ]
  },
  {
   "cell_type": "code",
   "execution_count": 3,
   "metadata": {},
   "outputs": [
    {
     "name": "stdout",
     "output_type": "stream",
     "text": [
      "(1772, 4)\n"
     ]
    }
   ],
   "source": [
    "# Load the X-GENRE datasets from Hugging Face\n",
    "train = load_dataset(\"TajaKuzman/X-GENRE-text-genre-dataset\", \"train\")\n",
    "\n",
    "\n",
    "# To open them as Pandas DataFrame:\n",
    "df_train = pd.DataFrame(train[\"train\"])\n",
    "\n",
    "print(df_train.shape)"
   ]
  },
  {
   "cell_type": "code",
   "execution_count": 4,
   "metadata": {},
   "outputs": [
    {
     "name": "stdout",
     "output_type": "stream",
     "text": [
      "(272, 4) (790, 6)\n"
     ]
    }
   ],
   "source": [
    "# Load the test datasets from the GitHub repositories (access to them is obtained by request to the AGILE repository owner)\n",
    "\n",
    "en_ginco = pd.read_json(\"../../datasets/EN-GINCO-test-dataset/EN-GINCO.jsonl\", lines=True)\n",
    "x_ginco = pd.read_json(\"../../datasets/X-GINCO-test-set/X-GINCO.jsonl\", lines=True)\n",
    "\n",
    "print(en_ginco.shape, x_ginco.shape)"
   ]
  },
  {
   "cell_type": "code",
   "execution_count": 5,
   "metadata": {},
   "outputs": [
    {
     "data": {
      "text/html": [
       "<div>\n",
       "<style scoped>\n",
       "    .dataframe tbody tr th:only-of-type {\n",
       "        vertical-align: middle;\n",
       "    }\n",
       "\n",
       "    .dataframe tbody tr th {\n",
       "        vertical-align: top;\n",
       "    }\n",
       "\n",
       "    .dataframe thead th {\n",
       "        text-align: right;\n",
       "    }\n",
       "</style>\n",
       "<table border=\"1\" class=\"dataframe\">\n",
       "  <thead>\n",
       "    <tr style=\"text-align: right;\">\n",
       "      <th></th>\n",
       "      <th>text</th>\n",
       "      <th>labels</th>\n",
       "      <th>language</th>\n",
       "      <th>dataset</th>\n",
       "      <th>text_id</th>\n",
       "      <th>translation</th>\n",
       "    </tr>\n",
       "  </thead>\n",
       "  <tbody>\n",
       "    <tr>\n",
       "      <th>0</th>\n",
       "      <td>Angelo Chetcuti, se jkun qed jieħu post Bjorn ...</td>\n",
       "      <td>News</td>\n",
       "      <td>Maltese</td>\n",
       "      <td>MaCoCu</td>\n",
       "      <td>macocu.mt.402244</td>\n",
       "      <td>Angelo Chetcuti, will be replacing Bjorn Vassa...</td>\n",
       "    </tr>\n",
       "    <tr>\n",
       "      <th>1</th>\n",
       "      <td>Poltergeist jirreferi għal fenomeni oħra tal-m...</td>\n",
       "      <td>Opinion/Argumentation</td>\n",
       "      <td>Maltese</td>\n",
       "      <td>MaCoCu</td>\n",
       "      <td>macocu.mt.377203</td>\n",
       "      <td>Poltergeist refers to other woman's phenomena,...</td>\n",
       "    </tr>\n",
       "    <tr>\n",
       "      <th>2</th>\n",
       "      <td>Chrysler: Brand ta 'lussu jew le? \\n\\nBrand ji...</td>\n",
       "      <td>Opinion/Argumentation</td>\n",
       "      <td>Maltese</td>\n",
       "      <td>MaCoCu</td>\n",
       "      <td>macocu.mt.109995</td>\n",
       "      <td>Chrysler: Luxury brand or not?\\n\\nBrand moves ...</td>\n",
       "    </tr>\n",
       "  </tbody>\n",
       "</table>\n",
       "</div>"
      ],
      "text/plain": [
       "                                                text                 labels  \\\n",
       "0  Angelo Chetcuti, se jkun qed jieħu post Bjorn ...                   News   \n",
       "1  Poltergeist jirreferi għal fenomeni oħra tal-m...  Opinion/Argumentation   \n",
       "2  Chrysler: Brand ta 'lussu jew le? \\n\\nBrand ji...  Opinion/Argumentation   \n",
       "\n",
       "  language dataset           text_id  \\\n",
       "0  Maltese  MaCoCu  macocu.mt.402244   \n",
       "1  Maltese  MaCoCu  macocu.mt.377203   \n",
       "2  Maltese  MaCoCu  macocu.mt.109995   \n",
       "\n",
       "                                         translation  \n",
       "0  Angelo Chetcuti, will be replacing Bjorn Vassa...  \n",
       "1  Poltergeist refers to other woman's phenomena,...  \n",
       "2  Chrysler: Luxury brand or not?\\n\\nBrand moves ...  "
      ]
     },
     "execution_count": 5,
     "metadata": {},
     "output_type": "execute_result"
    }
   ],
   "source": [
    "x_ginco.head(3)"
   ]
  },
  {
   "cell_type": "code",
   "execution_count": 6,
   "metadata": {},
   "outputs": [
    {
     "data": {
      "text/html": [
       "<div>\n",
       "<style scoped>\n",
       "    .dataframe tbody tr th:only-of-type {\n",
       "        vertical-align: middle;\n",
       "    }\n",
       "\n",
       "    .dataframe tbody tr th {\n",
       "        vertical-align: top;\n",
       "    }\n",
       "\n",
       "    .dataframe thead th {\n",
       "        text-align: right;\n",
       "    }\n",
       "</style>\n",
       "<table border=\"1\" class=\"dataframe\">\n",
       "  <thead>\n",
       "    <tr style=\"text-align: right;\">\n",
       "      <th></th>\n",
       "      <th>text</th>\n",
       "      <th>labels</th>\n",
       "      <th>dataset</th>\n",
       "      <th>language</th>\n",
       "    </tr>\n",
       "  </thead>\n",
       "  <tbody>\n",
       "    <tr>\n",
       "      <th>0</th>\n",
       "      <td>Seeking All Things Brilliant \"I want people to...</td>\n",
       "      <td>Other</td>\n",
       "      <td>CORE</td>\n",
       "      <td>English</td>\n",
       "    </tr>\n",
       "    <tr>\n",
       "      <th>1</th>\n",
       "      <td>Meet Orchid du Bois I first met Hayley Mowday ...</td>\n",
       "      <td>Other</td>\n",
       "      <td>CORE</td>\n",
       "      <td>English</td>\n",
       "    </tr>\n",
       "    <tr>\n",
       "      <th>2</th>\n",
       "      <td>Abstract Objective: Reporting bias due to soci...</td>\n",
       "      <td>Information/Explanation</td>\n",
       "      <td>CORE</td>\n",
       "      <td>English</td>\n",
       "    </tr>\n",
       "  </tbody>\n",
       "</table>\n",
       "</div>"
      ],
      "text/plain": [
       "                                                text                   labels  \\\n",
       "0  Seeking All Things Brilliant \"I want people to...                    Other   \n",
       "1  Meet Orchid du Bois I first met Hayley Mowday ...                    Other   \n",
       "2  Abstract Objective: Reporting bias due to soci...  Information/Explanation   \n",
       "\n",
       "  dataset language  \n",
       "0    CORE  English  \n",
       "1    CORE  English  \n",
       "2    CORE  English  "
      ]
     },
     "execution_count": 6,
     "metadata": {},
     "output_type": "execute_result"
    }
   ],
   "source": [
    "df_train.head(3)"
   ]
  },
  {
   "cell_type": "code",
   "execution_count": 7,
   "metadata": {},
   "outputs": [
    {
     "name": "stderr",
     "output_type": "stream",
     "text": [
      "/tmp/ipykernel_604795/1852146511.py:16: SettingWithCopyWarning: \n",
      "A value is trying to be set on a copy of a slice from a DataFrame.\n",
      "Try using .loc[row_indexer,col_indexer] = value instead\n",
      "\n",
      "See the caveats in the documentation: https://pandas.pydata.org/pandas-docs/stable/user_guide/indexing.html#returning-a-view-versus-a-copy\n",
      "  x_ginco[\"text\"] =  [text.replace(\"\\n\", \"\") for text in x_ginco.text.to_list()]\n",
      "/tmp/ipykernel_604795/1852146511.py:17: SettingWithCopyWarning: \n",
      "A value is trying to be set on a copy of a slice from a DataFrame.\n",
      "Try using .loc[row_indexer,col_indexer] = value instead\n",
      "\n",
      "See the caveats in the documentation: https://pandas.pydata.org/pandas-docs/stable/user_guide/indexing.html#returning-a-view-versus-a-copy\n",
      "  en_ginco[\"text\"] =  [text.replace(\"\\n\", \"\") for text in en_ginco.text.to_list()]\n"
     ]
    },
    {
     "name": "stdout",
     "output_type": "stream",
     "text": [
      "The shape of the dataframes:\n",
      "(1772, 4) (790, 2) (272, 2)\n",
      "Created train file:\n",
      "['__label__Other Seeking All Things Brilliant \"I want people to become curious about the stories that abound in their neighborhoods and cities. I want to create a \\'culture of honour\\' where we are all intentional about pulling out the good, the noble, the beautiful around us.\" I first met Jenn Co on Robson Street where my friend Keela and I interviewed her for a national documentary about church decline. Dressed like a fashion frontrow champ, she was articulate beyond our wildest hopes and savvy to boot. I liked her immediately. Fast forward seven years and she\\'s the same, except brighter and bolder, if that is even possible. While Jenn\\'s charted a course as a fashion stylist for years, today she\\'s producing Anything Brilliant , a pilot television show that celebrates good wherever she can find it. It was a sitdown with footware magnate John Fluevog that led to her current trajectory. \"I went to this church, uTown, for the first time a few years ago. The pastor gave each of us a blank piece of paper and said, \"You\\'re all going to finish my sermon for me.\" I thought, \"This is different!\" He went on to challenge us with the scripture where Jesus said, \"Greater things will you do ...\" Then he asked us to write down some of the dreams in our hearts and, if we wanted to, share it with the rest of the church. I knew nobody really, so with a beating heart, I went down and released this vision I\\'ve been carrying for many many years.\" John Fluevog walked up to her after the service and introduced himself: \"Hi. I\\'m John ... I\\'m in fashion.\" \"And that was that,\" Jenn recounts. \"My coffee date with John Fluevog turned out to be my springboard for launching into media. He essentially prophesied over me, asking if I\\'ve ever considered having my own show and telling me I was the \\'perfect package\\': my upbringing, my race, my age, my personality, my character. [At first] I could not believe or accept it. And it showed. \"You don\\'t believe me, now do you, Jenn?\" he asked ... \"I could feel my insides burning.\" When John left for his next meeting she immediately whipped out her sketch book and started writing down ideas. It was as if a geyser was uncorked. Anything Brilliant was born. Jenn\\'s vision for the show is to start a movement of \"treasure hunters\" in the world, desiring for people to quit complaining about how ugly, depressing and discouraging life can be and to pull out their antennas and start documenting the goodness all around them. \"I want people to become curious about the stories that abound in their neighborhoods and cities. I want to create a \\'culture of honour\\' where we are all intentional about pulling out the good, the noble, the beautiful around us. Instead of tearing each other down, I want us to build each other up!\" For Jenn it is always essential to remember \"the one,\" a phrase she learned from well-known Christian speaker Heidi Baker. \"For me it is about listening to the Lord\\'s promptings. Not being too busy in all the running around to stop and listen to a person or extend a helping hand or a smile.\" Basically, looking for anything brilliant. In her own words: Faith to me means [community / hope / food / sacrifice / art / etc] ... Taking God out for a spin. What I mean by that is ... Instead of simply staying in \"first gear\" all the time (being cautious, safe), I like giving God free reign and having him \"bump up\" the ride of my life. It means living audaciously, stupendously, risk-taking all the time. It means becoming a \"thin place\" or a portal between heaven and earth, wherein the supernatural and the miraculous are normal, everyday occurrences. It means the cyclical continuous flow of worship from my heart to the Father as He pours out His adoration upon me. It means reeking of His love to everyone I meet. As one of my modern day heroes Bill Johnson says, \"No one is safe from a blessing wherever you are.\" Literally, allowing here on earth what exists in heaven -- love, joy, peace, healing, restoration, hope. Creating spaces for God to manifest His goodness. It means taking the moment to pray for the woman limping by the side of the swimming pool and watching her eyes well up in tears as she is overwhelmed by the love of her Father. It means encouraging prospective landlords in my house-hunting process with words of knowledge about their character and their destiny and leaving an atmosphere of restored hope. One of my life\\'s mission statements is I desire that whoever encounters me will leave with a greater measure of hope. When I was little I ... would be found in the library. It\\'s hard to believe nowadays that I used to be a painfully shy kid. I actually read books on how to befriend people. Hahaha. I know. So sad/funny/cute all at the same time. My mom put me in sports, art & music lessons to help me get out of my shell. I remember her telling me the reason why I was in voice lessons was because one of my grade school teachers overheard me singing accidentally and remarked that I had natural talent. It seems, growing up, that was the story of my life: painfully shy kid with apparently many natural talents. The only problem with that scenario is it taught me early on that my identity was wrapped up in what I did and how well I did it. It\\'s taken many many years of brokenness and searching and counseling and healing to get to the place where 1) I actually love myself and 2) I\\'m sinking into deeper security that who I am is dependent on the fact that I am ridiculously loved and adored by the Father. So there ya have it -- that\\'s my number one job: To be loved and adored by the Father. My days are filled with ... discovering more ways to connect with the heart of my Papa, laughing out loud, singing/praying (all the time), dreaming with God, brainstorming creative ideas on releasing goodness and hope to this world, interviewing folks for my radio broadcasts/anything brilliant, stopping for \"the one,\" going on \"treasure hunts\" (finding people whom the Lord highlights in my heart) and smearing love on them ... HAHAHA! I wish ... I had more time to tell you of the many stories of His goodness. I could know God for other people. I could bottle up hope and give a dose to everyone in the world. Today I give myself permission ... to breathe to be still, to be at rest to be childlike in my awe and wonder to receive even a greater dose of His affection to take pauses throughout the day to intentionally praise Him to speak life to others to listen and draw out people\\'s stories to laugh out loud -- even more (especially in the face of challenges orproblems). ______________ About Christina: Christina Crook is founder of SeekingEve.ca : a perpetual search for honest faith. Christina grew up inside an art gallery and is sister to seven wonderful far-flung siblings. She is a core contributor to UPPERCASE, a magazine for the creative and curious, and Contributing Editor at Geez magazine. In January 2012 she turned off the Internet in all its forms and chronicled a month off-line with a letter a day. Letters from a Luddite was featured on CBC\\'s national technology show, Spark, and is now a book . When not mucking with paper or penning poetry on the backs of napkins, she\\'s exploring the world alongside two little marvels: Madeleine (3) and Thomas (1.) She attends Grace Toronto Church. \\n', '__label__Other Meet Orchid du Bois I first met Hayley Mowday (above) a few years ago when she was working for cosmetic giant Estee Lauder. Our paths crossed again a year ago when Hayley launched her own online business dedicated to the \"art of seduction\". After working as a full time mum for five years, 37-year-old Hayley decided to open New Zealand\\'s first online seduction boutique offering a selection of tasteful sensual products. Hayley says Orchid was born from her desire to bring seduction to all women and encourage confidence and connection in the boudoir. Because my inner seductress has been MIA for a number of years I thought it was time to catch up with Hayley to see if she could help me find my own inner temptress. What did you do before you set up Orchid? I was fortunate to be a full-time Mum for 5 years pre Orchid which was a vast change from my career in the cosmetic industry. I worked both here and in London for Estee Lauder Companies. My last role with the company was Marketing Director for Jo Malone UK which was one of my career highlights. Why did you set up Orchid? As a newly single woman I wanted tips and techniques for seduction and beautiful pleasure objects but found the current market place daunting and geared primarily towards men and sex. The idea of sophisticated products or seduction tools was sorely lacking. I was looking for beautiful lingerie and designer sex toys and what I found was red lace crotch-less panties and scary looking toys. I wanted a nice environment to shop in and beautiful packaging. I guess what I wanted was the same level of beautiful design I\\'d come to expect from our very own fashion designers -- but within the sex industry. The more I talked to friends (both men and women) the more I realised I wasn\\'t the only one who felt like this. With all this in mind I set about sourcing a select range of sophisticated collections with the aim to bring seduction to all men and women and encourage confidence and connection in the boudoir. Online you refer to yourself as Orchid du Bois -- can you tell me a little bit about her -- is she your alter-ego? Yes, Orchid du Bois is my alter-ego. She is my sexy side. She is confident and playful, frivolous and passionate. Seduction is always on her mind, she is an old school seductress. She is the side of me I turn to on the days I am that tired Mum. I often encourage women to have their own alter-ego. Many women feel more comfortable acting as someone different if they are seducing their partner or trying something new. Even something as simple as a lace mask can change a woman\\'s persona in the boudoir. Is there any negative stigma attached to what you do and if yes how do you deal with it? I did wonder when I first set up Orchid what I would say if someone had something negative to say and I\\'m yet to have that conversation. If anything I have been surprised by the lack of negativity and more often than not from those that I expected it from. Many people see my sign written car and assume I am a florist but when they ask they are always intrigued -- it\\'s a great conversation starter! It\\'s fair to say that telling your parents you are creating a seduction boutique and selling pleasure objects is not the easiest conversation. Despite the awkward initial talk my wonderful parents have been nothing but supportive and once they understood the concept for the brand and the quality of products we sourced they very proudly tell people what I do for a job. Above: Hayley hosting a Seduction Party. What has been the best thing that has happened to you since setting up Orchid? The feedback. I love nothing more than hearing from women at our seduction parties how much they love our collections and how needed Orchid has been. Better still is their feedback on how they have become more confident and playful in the boudoir. I think as a marketer (and essentially the proud owner of a new baby) there is nothing better than knowing you\\'ve hit the nail on the head. Do you think New Zealand women shy away from the subject of sex? Prior to starting Orchid I would have said yes but actually I think once given the forum New Zealand women are very intrigued and curious about sex and very open to the discussion. I think we like to know we are \\'normal\\' and in particular I think we like to know what everyone else is doing (or not doing). We love a bit of naughty and from my experience I think we are open to new things. I don\\'t think we talk about it openly like other European cultures because we tend to be more reserved as a nation, but I think we want to. How important do you think seduction is when it comes to sex and romance? It\\'s crucial, and unfortunately it\\'s so often forgotten. I have yet to meet a man or woman who does not enjoy being seduced. It\\'s the quickest way to make your partner feel desired and that\\'s pretty powerful. Do you think women have lost the art of seduction? Absolutely. I think for various reasons we have become lazy in the bedroom, expecting our partners to seduce us or instigate sex. I think life often gets in the way of us enjoying the act of seduction and instead we fall into the habit of obligation. Many women tell me they feel self conscious attempting to be the seducer. I am a firm believer that seductresses are not born but come from having the confidence to try something new. That means baby steps and trying things not too far outside your comfort zone. There are a whole lot of women out there who are too tired for sex let alone spicing it up with any fancy gadgets -- what do you say to those women? There is nothing more energizing than an orgasm (which by the way 60-80% of us don\\'t achieve without clitoral stimulation so those fancy gadgets come in handy). It really comes down to priorities. You need to put aside the time for each other, even if it means cancelling something else because life is so busy. Mums often tell me how tired they are just keeping the kids happy and as a Mum I totally understand that, but your relationship as a passionate couple is debatably as important as your role as a Mother and the investment in time will pay dividends in your relationship. Monotony is a passion killer so bringing something new to the boudoir such as a pleasure object or seduction tool will re-kindle your love life and actually make you want to make more time for it. Take turns at bringing something new to try and eventually make your own adults pleasure box -- it\\'s a great way of discovering your partner\\'s real desires. What about women who think that it should be the men doing the seducing? Men often tell me that there is nothing sexier than their partner seducing them or bringing something new to the boudoir. The benefits of being the seducer is that you take the lead and often this is a great way to show your partner what you want or how you want it done. Win win I say. Do you personally have a favourite product that you sell? The YesForLov Massage Candle is heavenly. Not only does the warm liquid create a spine tingling sensation when it is poured straight from the candle but you are guaranteed a sensual massage and fabulous smelling sheets. Divine. Have you always enjoyed sex/seduction/toys etc or were you a late bloomer? I have always enjoyed sex and seduction but was possibly more of a late bloomer with toys and seduction tools. I think often that is the case as women reach their sexual peak later and we begin to experiment with new ways of deriving pleasure or we are in long-term relationships and want to rekindle or bring new excitement to the relationship. Above: Hayley hosting a Seduction Party. Because you come from a beauty background what beauty product would you be lost without? Ooohhh just one...if I could have nothing else I would choose Estee Lauders Advanced Night Repair, magic in a bottle. \\n']\n",
      "Number of lines: 1772\n",
      "Created test file:\n",
      "['__label__Information/Explanation Welcome to KBismarck.org! This is a community of friends who share a common interest in naval history and anything concerning the war at sea: warships, battles, weapons, technology, shipbuilding, etc. Take a couple of minutes to register and join our Naval Discussion Forums.\\n', '__label__News Why graft thrives in postconflict zones <p> A report issued Wednesday said Iraq could become \\'the biggest corruption scandal in history.\\' <p> March 17, 2005 <p> By Mark Rice-Oxley Correspondent of The Christian Science Monitor <p> Five Polish peacekeepers are arrested for allegedly taking $90,000 worth of bribes in Iraq. Several Sri Lankan officials are suspended for mishandling tsunami aid. US audits show large financial discrepancies in Iraq. Reports of aid abuse taunt Indonesia. <p> Two of the world\\'s biggest-ever reconstruction projects - Iraq and post-tsunami Asia - are facing major tests of credibility, as billions of dollars of aid and reconstruction money pour in. <p> And according to a major report released Wednesday by Transparency International (TI), an international organization that focuses on issues of corruption, the omens are not good. <p> From Iraq and Afghanistan to Cambodia and Bosnia, from the wrecked coasts of Asia to the kleptocratic carve-up in some African countries, crisis zones are proving to be fertile soil for corruption, the report argues. <p> \"Many postconflict countries figure among the most corrupt in the world,\" says Philippe le Billon of the University of British Columbia, Canada, in the TI report. \"Corruption often predates hostilities and in many cases it features among the factors that triggered political unrest or facilitated conflict escalation.\" <p> The report cites weak government, haphazard law and order, armed factions that need appeasing, and a scramble for rich resources as factors that render a country prone to corruption. <p> Nations that face security threats are even more vulnerable, since they require protection money and may not be able to keep monitors safe. <p> Bosnia is a good example. During the breakdown of communism in the late 1980s, factions scrambled for assets by plundering state companies, a situation exacerbated by the 1992-1995 war. <p> Wartime sanctioned nefarious activity. Criminal gangs became cherished paramilitary groups; black markets flourished; underworld players became rich and powerful. After peace was declared in 1995, the world community was wary of upsetting the status quo. It\\'s still unclear how much of the $5 billion spent on aid after the war ended up in the pockets of shady characters. <p> \"These elements were either part of the ruling political parties, or criminal elements that were financing the ruling political parties,\" says James Lyon, an analyst in Belgrade with the International Crisis Group. <p> In Iraq, allegations range from petty bribery to large-scale embezzlement, expropriation, profiteering and nepotism. The TI report says it could become \"the biggest corruption scandal in history.\" <p> \"I can see all sorts of levels of corruption in Iraq,\" says report contributor Reinoud Leenders, \"starting from petty officials asking for bribes to process a passport, way up to contractors delivering shoddy work and the kind of high-level corruption involving ministers and high officials handing out contracts to their friends and clients.\" <p> The recent elections may help, he adds, but already he notes a tendency for political bargaining indicative of \"dividing up the cake of state resources.\" <p> But it is not just about Iraqis dividing up the cake. US audits of its own spending have found repeated shortcomings, including a lack of competitive bidding for contracts worth billions of dollars, payment of contracts without adequate certification that work had been done, and in some cases, outright theft. <p> A report on the disbursement of Iraqi oil revenues to ministries by the Coalition Provisional Authority, which governed Iraq until last July found a $340 million contract awarded by the electricity ministry without a public tender. <p> A January report by special inspector Stuart Bowen found that $8.8 billion dollars had been disbursed from Iraqi oil revenue by US administrators to Iraqi ministries without proper accounting. <p> And earlier this week, it emerged that the Pentagon\\'s auditing agency found that Halliburton, the Houston oil services giant formerly run by Vice President Dick Cheney, overcharged by more than $108 million on a contract. <p> A Halliburton subsidiary, Kellogg, Brown and Root, faces a number of investigations for overcharging, including one case where it charged the Army more than $27 million dollars to transport $82,000 worth of fuel from Kuwait to Iraq, according to excerpts of the report released this week by Rep. Henry Waxman (D) of California. <p> In a written statement. Halliburton defended the cost, explaining that delivering the fuel was \"fraught with danger.\" <p> Analysts also point to an entrenched culture of graft in the Iraqi government. <p> It doesn\\'t help that much of Iraq needs physical rebuilding, which involves the sector more vulnerable to corruption than any other: construction. <p> \"Public works and construction are singled out by one survey after another as the sector most prone to corruption - in both the developing and the developed world,\" says TI chairman Peter Eigen. <p> Construction is considered prone to sleaze for several reasons: the fierce competition for \"make or break\" contracts; permits and approvals that are open to requests for backhanders; opportunities for delays and overruns; and the physical cover-up opportunity presented by plaster and concrete. <p> With whole swaths of Southeast Asia requiring rebuilding after the tsunami, experts worry that construction corruption could take a deadly toll. <p> \"The cost will be lives lost,\" said Eigen, noting that cheap materials and corner-cutting can prove lethal in earthquake-prone parts of the world. <p> So how to battle corruption? Good governance is clearly the No. 1 priority, but TI identifies several other initiatives that can help improve probity. <p> These include vetting contractors and blacklisting those with shady records, ensuring competitive bidding for deals and assuring independent auditing and multilayered monitoring involving local communities, rotating staff in sensitive positions, and encouraging donors to disburse funds in a timely fashion to reduce pressure on local officials and prevent accounting trickery. <p> \"We are simply making the case that a series of norms should be applied which make it much more feasible to avoid the kind factors driving corruption,\" says Lawrence Cockcroft, chairman of TI UK. <p> • Dan Murphy in Baghdad, Beth Kampschror in Sarajevo, and Peter Ford in Paris contributed to this report.\\n']\n",
      "Number of lines: 272\n",
      "Created test file:\n",
      "[\"__label__News Angelo Chetcuti, se jkun qed jieħu post Bjorn Vassallo bħala segretarju ġenerali tal-Malta Football Association, wara li dan tal-aħħar ingħata kariga fi ħdan il-FIFA. Chetcuti huwa viċi President ta' Birzebbuga FC u Membru tal-Kunsill u tal-Eżekuttiv tal-MFA. Din l-aħbar kienet ikkonfermata fil-Kunsill tal-MFA li sar illum wara nofsinhar fis-sala tas-Centenary Stadium, f'Ta' Qali. Chetcuti jibda fil-kariga ta' Segretarju Ġenerali tal-MFA b'mod effettiv mill-1 ta' Diċembru 2016. Fi stqarrija, l-MFA ferħet lill-Vassallo fl-irwol il-ġdid tiegħu waqt li awgurat lil Angelo Chetcuti fil-kariga l-ġdida tiegħu. \\n\", \"__label__Opinion/Argumentation Poltergeist jirreferi għal fenomeni oħra tal-mara, spirti, ghosts, goblins, iżda m'hemm l-ebda prova vera tal-eżistenza tagħhom. Xi ħadd sinċerament jemmen u f'kull punt jara xi ħaġa suspettuża, filwaqt li oħrajn huma xettiċi dwar dan, u jemmen li d-dija u difetti oħra jsibu rwieħhom fil-footage. Huwa f'idejn kulħadd kif jittrattaw dawn il-fenomeni strambi, iżda huwa aħjar li ma tara dawn ir-ritratti b'impressjonabbli u nies b'di psikja dgħajfa. Jekk tħares lejn l-ewwel ritratt tal-familja, jidher li m'hemm xejn dwar dan. Imma jekk tħares lejn it-tieqa għan-nies, tista 'tara l-wiċċ li jħares. It-tieni ritratt jirrifletti s-siluwett fl-isfond, reminixxenti ta 'raġel f'turban. U kif tista 'tispjega dak li deher fir-ritratt tat-taraġ fid-dar. U hawn brownie runs bejn l-istands. Hawnhekk, mixi fil-park, l-ispirtu ta 'xi ħadd iddeċieda li joqgħod fuq il-bank u l-mistrieħ. Dak li tgħid dan il-flare strambi, wieħed jista 'biss raden. Min hu - brownie, ghost jew fenek big xemxija? Fir-ritratt, is-siġra turi b'mod ċar essenza trasparenti. Forsi r-rqad mhux kuntent ta 'xi ħadd huwa mehmuż ma' dan il-post. Iżda dan l-ewwel daqqa t'għajn - biss dell ta 'raġel, iżda fuq il-passi sieq viżibbli b'mod ċar viżibbli. Wara dan il-Guy, xi ħadd qed isegwi. Fortunatament, huwa ma jarax dan. Ukoll, fejn, kif mhux fiċ-ċimiterju, li jqattgħu ħin ghost kuntent? Kull wieħed minna kellu sitwazzjonijiet inexplicable meta kien hemm idea li ħdejn poltergeist, per eżempju, xi ħaġa għarrieda waqgħet, dell innotat mill-kantuniera ta 'l-għajnejn tiegħu, jew f'daqqa waħda spiċċat xi ħaġa. Naturalment, kwalunkwe fenomenu jista 'joħroġ bi spjegazzjoni reali ħafna, jew, għall-kuntrarju, jagħti l-kulur l-ieħor. U biss tista 'tiddeċiedi għalik innifsek kif tiddeskrivi affarijiet inkredibbli bħal dawn. \\n\"]\n",
      "Number of lines: 790\n",
      "Number of all labels: 9\n",
      "The function returned the following list: [['__label__Other', '__label__Information/Explanation', '__label__News', '__label__Instruction', '__label__Opinion/Argumentation', '__label__Forum', '__label__Prose/Lyrical', '__label__Legal', '__label__Promotion'], 'data/x-genre-fasttext.train', 'data/test-file-fasttext-en-ginco.test', 'data/test-file-fasttext-x-ginco.test']\n",
      "[['__label__Other', '__label__Information/Explanation', '__label__News', '__label__Instruction', '__label__Opinion/Argumentation', '__label__Forum', '__label__Prose/Lyrical', '__label__Legal', '__label__Promotion'], 'data/x-genre-fasttext.train', 'data/test-file-fasttext-en-ginco.test', 'data/test-file-fasttext-x-ginco.test']\n"
     ]
    }
   ],
   "source": [
    "# Creating FastText train and test files\n",
    "\n",
    "def fastText_files(df_train, x_ginco, en_ginco):\n",
    "    \"\"\"\n",
    "    This function creates and saves the test and train file(s).\n",
    "    \n",
    "    The function returns a list of the following elements:\n",
    "        - labels - which can be used for prediction and evaluation.\n",
    "        - train file path\n",
    "        - test file path\n",
    "    \"\"\"\n",
    "    x_ginco = x_ginco[[\"text\", \"labels\"]]\n",
    "    en_ginco = en_ginco[[\"text\", \"labels\"]]\n",
    "    \n",
    "    # Assure that the text contains no new lines\n",
    "    x_ginco[\"text\"] =  [text.replace(\"\\n\", \"\") for text in x_ginco.text.to_list()]\n",
    "    en_ginco[\"text\"] =  [text.replace(\"\\n\", \"\") for text in en_ginco.text.to_list()]\n",
    "    df_train[\"text\"] =  [text.replace(\"\\n\", \"\") for text in df_train.text.to_list()]\n",
    "\n",
    "    print(\"The shape of the dataframes:\")\n",
    "    print(df_train.shape, x_ginco.shape, en_ginco.shape)\n",
    "    \n",
    "    # Then create CSV files which FastText can read\n",
    "    \n",
    "    train_file_content=\"\"\n",
    "\n",
    "    for labels, text in df_train.loc[:, [\"labels\", \"text\"]].values:\n",
    "        label = f\"__label__{labels}\"\n",
    "        train_file_content += f\"\"\"{label} {text}\\n\"\"\"\n",
    "    \n",
    "    train_path = \"\"\n",
    "    train_path = \"data/x-genre-fasttext.train\"\n",
    "\n",
    "    with open(train_path,\"w\") as train_file:\n",
    "        train_file.write(train_file_content)\n",
    "    \n",
    "    train_example = open(train_path,\"r\").readlines()\n",
    "    print(\"Created train file:\")\n",
    "    print(train_example[:2])\n",
    "    print(\"Number of lines: {}\".format(len(train_example)))\n",
    "    \n",
    "    test_file_content_en=\"\"\n",
    "    \n",
    "    for labels, text in en_ginco.loc[:, [\"labels\", \"text\"]].values:\n",
    "        label = f\"__label__{labels}\"\n",
    "        test_file_content_en += f\"\"\"{label} {text}\\n\"\"\"\n",
    "    \n",
    "    test_path_en = \"\"\n",
    "    test_path_en = \"data/test-file-fasttext-en-ginco.test\"\n",
    "    \n",
    "    with open(test_path_en,\"w\") as test_file_en:\n",
    "        test_file_en.write(test_file_content_en)\n",
    "    \n",
    "    test_example = open(test_path_en,\"r\").readlines()\n",
    "    print(\"Created test file:\")\n",
    "    print(test_example[:2])\n",
    "    print(\"Number of lines: {}\".format(len(test_example)))\n",
    "\n",
    "    test_file_content_x=\"\"\n",
    "    \n",
    "    for labels, text in x_ginco.loc[:, [\"labels\", \"text\"]].values:\n",
    "        label = f\"__label__{labels}\"\n",
    "        test_file_content_x += f\"\"\"{label} {text}\\n\"\"\"\n",
    "    \n",
    "    test_path_x = \"\"\n",
    "    test_path_x = \"data/test-file-fasttext-x-ginco.test\"\n",
    "    \n",
    "    with open(test_path_x,\"w\") as test_file_x:\n",
    "        test_file_x.write(test_file_content_x)\n",
    "    \n",
    "    test_example = open(test_path_x,\"r\").readlines()\n",
    "    print(\"Created test file:\")\n",
    "    print(test_example[:2])\n",
    "    print(\"Number of lines: {}\".format(len(test_example)))\n",
    "\n",
    "    \n",
    "    # Finally, create a list of labels which can be used for prediction and evaluation.\n",
    "    # Let's inspect the labels:\n",
    "    all_df_labels = df_train[\"labels\"].unique().tolist()\n",
    "    \n",
    "    for i in x_ginco[\"labels\"].unique().tolist():\n",
    "        if i not in all_df_labels:\n",
    "            all_df_labels.append(i)\n",
    "    \n",
    "    for i in en_ginco[\"labels\"].unique().tolist():\n",
    "        if i not in all_df_labels:\n",
    "            all_df_labels.append(i)\n",
    "\n",
    "    print(f\"Number of all labels: {len(all_df_labels)}\")\n",
    "    \n",
    "    # Create a final list of labels in a FastText-appropriate format:\n",
    "    LABELS = df_train.labels.unique().tolist()\n",
    "    LABELS = [f\"__label__{i}\" for i in LABELS]\n",
    "    \n",
    "    return_list = [LABELS, train_path, test_path_en, test_path_x]\n",
    "    print(f\"The function returned the following list: {return_list}\")\n",
    "    \n",
    "    return return_list\n",
    "\n",
    "fasttext_dict = fastText_files(df_train, x_ginco, en_ginco)\n",
    "\n",
    "print(fasttext_dict)"
   ]
  },
  {
   "cell_type": "code",
   "execution_count": 27,
   "metadata": {},
   "outputs": [
    {
     "name": "stderr",
     "output_type": "stream",
     "text": [
      "Read 1M words\n",
      "Number of words:  163798\n",
      "Number of labels: 9\n",
      "Progress: 100.0% words/sec/thread:  145067 lr:  0.000000 avg.loss:  0.178346 ETA:   0h 0m 0s\n"
     ]
    }
   ],
   "source": [
    "def prediction_to_label(prediction):\n",
    "    \"\"\"Transforms predictions as returned by fasttext into pure labels.\"\"\"\n",
    "    return np.array(prediction[0])[:, 0]\n",
    "\n",
    "# Parsing test file\n",
    "def parse_test_file(path: str):\n",
    "    \"\"\"Reads fasttext formatted file and returns labels, texts.\"\"\"\n",
    "    with open(path, \"r\") as f:\n",
    "        content = f.readlines()\n",
    "    pattern = \"{label} {text}\\n\"\n",
    "    p = parse.compile(pattern)\n",
    "\n",
    "    labels, texts = list(), list()\n",
    "    for line in content:\n",
    "        rez = p.parse(line)\n",
    "        if rez is not None:\n",
    "            labels.append(rez[\"label\"])\n",
    "            texts.append(rez[\"text\"])\n",
    "        else:\n",
    "            print(\"error parsing line \", line)\n",
    "    return labels, texts\n",
    "\n",
    "# Train fasttext model   \n",
    "model = ft.train_supervised(input=\"data/x-genre-fasttext.train\",\n",
    "                            epoch = 350,\n",
    "                            wordNgrams=1,\n",
    "                            verbose = 2\n",
    "                                        )"
   ]
  },
  {
   "cell_type": "code",
   "execution_count": 28,
   "metadata": {},
   "outputs": [],
   "source": [
    "# Parse the test files so that labels and texts are separated\n",
    "y_true, y_texts = parse_test_file(\"data/test-file-fasttext.test\")\n",
    "\n",
    "# Evaluate the model on test data\n",
    "y_pred = model.predict(y_texts)\n",
    "y_pred = prediction_to_label(y_pred)\n",
    "\n",
    "y_pred = [x.replace(\"__label__\", \"\") for x in y_pred]\n",
    "\n",
    "# Add the y_pred to the test_df\n",
    "df_test[\"FastText\"] = y_pred"
   ]
  },
  {
   "attachments": {},
   "cell_type": "markdown",
   "metadata": {},
   "source": [
    "## Evaluating the models"
   ]
  },
  {
   "cell_type": "code",
   "execution_count": 4,
   "metadata": {},
   "outputs": [
    {
     "data": {
      "text/html": [
       "<div>\n",
       "<style scoped>\n",
       "    .dataframe tbody tr th:only-of-type {\n",
       "        vertical-align: middle;\n",
       "    }\n",
       "\n",
       "    .dataframe tbody tr th {\n",
       "        vertical-align: top;\n",
       "    }\n",
       "\n",
       "    .dataframe thead th {\n",
       "        text-align: right;\n",
       "    }\n",
       "</style>\n",
       "<table border=\"1\" class=\"dataframe\">\n",
       "  <thead>\n",
       "    <tr style=\"text-align: right;\">\n",
       "      <th></th>\n",
       "      <th>text</th>\n",
       "      <th>true_label</th>\n",
       "      <th>id</th>\n",
       "      <th>dataset</th>\n",
       "      <th>truncated_texts</th>\n",
       "      <th>true_label_forChatGPT</th>\n",
       "      <th>gpt-3.5-turbo</th>\n",
       "      <th>mt0</th>\n",
       "      <th>text_prompts</th>\n",
       "      <th>mt0_xl</th>\n",
       "      <th>X-GENRE</th>\n",
       "      <th>X-GENRE-confidence</th>\n",
       "      <th>dummy-classifier-stratified</th>\n",
       "      <th>nb-complement</th>\n",
       "      <th>logistic-regression</th>\n",
       "      <th>svc</th>\n",
       "      <th>FastText</th>\n",
       "    </tr>\n",
       "  </thead>\n",
       "  <tbody>\n",
       "    <tr>\n",
       "      <th>0</th>\n",
       "      <td>Welcome to KBismarck.org! This is a community ...</td>\n",
       "      <td>Information/Explanation</td>\n",
       "      <td>en_ginco_0</td>\n",
       "      <td>EN-GINCO</td>\n",
       "      <td>Welcome to KBismarck.org! This is a community ...</td>\n",
       "      <td>Information</td>\n",
       "      <td>Forum</td>\n",
       "      <td>Forum</td>\n",
       "      <td>Please classify the following text according t...</td>\n",
       "      <td>Forum</td>\n",
       "      <td>Forum</td>\n",
       "      <td>[('Forum', 0.9329903455731817), ('Other', 0.05...</td>\n",
       "      <td>Information/Explanation</td>\n",
       "      <td>Instruction</td>\n",
       "      <td>Opinion/Argumentation</td>\n",
       "      <td>Promotion</td>\n",
       "      <td>Promotion</td>\n",
       "    </tr>\n",
       "    <tr>\n",
       "      <th>1</th>\n",
       "      <td>Why graft thrives in postconflict zones &lt;p&gt; A ...</td>\n",
       "      <td>News</td>\n",
       "      <td>en_ginco_1</td>\n",
       "      <td>EN-GINCO</td>\n",
       "      <td>Why graft thrives in postconflict zones &lt;p&gt; A ...</td>\n",
       "      <td>News</td>\n",
       "      <td>News</td>\n",
       "      <td>Opinion</td>\n",
       "      <td>Please classify the following text according t...</td>\n",
       "      <td>World politics</td>\n",
       "      <td>News</td>\n",
       "      <td>[('News', 0.9989983760338668), ('Instruction',...</td>\n",
       "      <td>News</td>\n",
       "      <td>Information/Explanation</td>\n",
       "      <td>News</td>\n",
       "      <td>News</td>\n",
       "      <td>News</td>\n",
       "    </tr>\n",
       "  </tbody>\n",
       "</table>\n",
       "</div>"
      ],
      "text/plain": [
       "                                                text               true_label  \\\n",
       "0  Welcome to KBismarck.org! This is a community ...  Information/Explanation   \n",
       "1  Why graft thrives in postconflict zones <p> A ...                     News   \n",
       "\n",
       "           id   dataset                                    truncated_texts  \\\n",
       "0  en_ginco_0  EN-GINCO  Welcome to KBismarck.org! This is a community ...   \n",
       "1  en_ginco_1  EN-GINCO  Why graft thrives in postconflict zones <p> A ...   \n",
       "\n",
       "  true_label_forChatGPT gpt-3.5-turbo      mt0  \\\n",
       "0           Information         Forum    Forum   \n",
       "1                  News          News  Opinion   \n",
       "\n",
       "                                        text_prompts          mt0_xl X-GENRE  \\\n",
       "0  Please classify the following text according t...           Forum   Forum   \n",
       "1  Please classify the following text according t...  World politics    News   \n",
       "\n",
       "                                  X-GENRE-confidence  \\\n",
       "0  [('Forum', 0.9329903455731817), ('Other', 0.05...   \n",
       "1  [('News', 0.9989983760338668), ('Instruction',...   \n",
       "\n",
       "  dummy-classifier-stratified            nb-complement    logistic-regression  \\\n",
       "0     Information/Explanation              Instruction  Opinion/Argumentation   \n",
       "1                        News  Information/Explanation                   News   \n",
       "\n",
       "         svc   FastText  \n",
       "0  Promotion  Promotion  \n",
       "1       News       News  "
      ]
     },
     "execution_count": 4,
     "metadata": {},
     "output_type": "execute_result"
    }
   ],
   "source": [
    "# Import the test df with results\n",
    "df_test = pd.read_csv(\"data/main_test_file_with_predictions-additional-baseline-classifiers.csv\", index_col = 0)\n",
    "df_test.head(2)"
   ]
  },
  {
   "cell_type": "code",
   "execution_count": 13,
   "metadata": {},
   "outputs": [
    {
     "data": {
      "text/plain": [
       "Index(['text', 'true_label', 'id', 'dataset', 'truncated_texts',\n",
       "       'true_label_forChatGPT', 'gpt-3.5-turbo', 'mt0', 'text_prompts',\n",
       "       'mt0_xl', 'X-GENRE', 'X-GENRE-confidence',\n",
       "       'dummy-classifier-stratified', 'nb-complement', 'logistic-regression',\n",
       "       'svc', 'FastText'],\n",
       "      dtype='object')"
      ]
     },
     "execution_count": 13,
     "metadata": {},
     "output_type": "execute_result"
    }
   ],
   "source": [
    "df_test.columns"
   ]
  },
  {
   "cell_type": "code",
   "execution_count": 5,
   "metadata": {},
   "outputs": [],
   "source": [
    "# Let's test the performance on EN-GINCO, X-GENRE and different splits of X-GENRE\n",
    "def test_splits(model):\n",
    "    en_ginco_df = df_test[df_test[\"dataset\"] == \"EN-GINCO\"]\n",
    "    print(\"Performance on EN-GINCO\")\n",
    "    print(en_ginco_df.shape)\n",
    "\n",
    "    y_true = en_ginco_df[\"true_label\"].to_list()\n",
    "    y_pred = en_ginco_df[model].to_list()\n",
    "    labels = list(en_ginco_df[\"true_label\"].unique())\n",
    "\n",
    "    results_en_ginco = testing(y_true, y_pred, labels)\n",
    "\n",
    "    x_genre_df = df_test[df_test[\"dataset\"] != \"EN-GINCO\"]\n",
    "    print(\"Performance on X-GENRE (entire)\")\n",
    "    print(x_genre_df.shape)\n",
    "\n",
    "    y_true = x_genre_df[\"true_label\"].to_list()\n",
    "    y_pred = x_genre_df[model].to_list()\n",
    "    labels = list(x_genre_df[\"true_label\"].unique())\n",
    "\n",
    "    results_x_genre = testing(y_true, y_pred, labels)\n",
    "\n",
    "    x_genre_en_df = x_genre_df[x_genre_df[\"dataset\"] != 'X-GENRE-test-GINCO']\n",
    "    print(\"Performance on X-GENRE (English part)\")\n",
    "    print(x_genre_en_df.shape)\n",
    "\n",
    "    y_true = x_genre_en_df[\"true_label\"].to_list()\n",
    "    y_pred = x_genre_en_df[model].to_list()\n",
    "    labels = list(x_genre_en_df[\"true_label\"].unique())\n",
    "\n",
    "    results_x_genre_en = testing(y_true, y_pred, labels)\n",
    "\n",
    "    x_genre_sl_df = x_genre_df[x_genre_df[\"dataset\"] == 'X-GENRE-test-GINCO']\n",
    "    print(\"Performance on X-GENRE (Slovene part)\")\n",
    "    print(x_genre_sl_df.shape)\n",
    "\n",
    "    y_true = x_genre_sl_df[\"true_label\"].to_list()\n",
    "    y_pred = x_genre_sl_df[model].to_list()\n",
    "    labels = list(x_genre_sl_df[\"true_label\"].unique())\n",
    "\n",
    "    results_x_genre_sl = testing(y_true, y_pred, labels)\n",
    "\n",
    "    return {\"en-ginco\":results_en_ginco, \"x-genre\":results_x_genre, \"x-genre-en\":results_x_genre_en, \"x-genre-sl\": results_x_genre_sl}"
   ]
  },
  {
   "cell_type": "code",
   "execution_count": 6,
   "metadata": {},
   "outputs": [],
   "source": [
    "en_ginco_all_results = {}\n",
    "x_genre_all_results = {}\n",
    "x_genre_en_all_results = {}\n",
    "x_genre_sl_all_results = {}"
   ]
  },
  {
   "cell_type": "code",
   "execution_count": null,
   "metadata": {},
   "outputs": [],
   "source": [
    "for model in ['dummy-classifier-stratified', 'nb-complement', 'logistic-regression','svc', \"FastText\", \"X-GENRE\"]:\n",
    "    print(model)\n",
    "    result = test_splits(model)\n",
    "    en_ginco_all_results[model] = result[\"en-ginco\"]\n",
    "    x_genre_all_results[model] = result[\"x-genre\"]\n",
    "    x_genre_en_all_results[model] = result[\"x-genre-en\"]\n",
    "    x_genre_sl_all_results[model] = result[\"x-genre-sl\"]"
   ]
  }
 ],
 "metadata": {
  "kernelspec": {
   "display_name": "IPTC_env",
   "language": "python",
   "name": "python3"
  },
  "language_info": {
   "codemirror_mode": {
    "name": "ipython",
    "version": 3
   },
   "file_extension": ".py",
   "mimetype": "text/x-python",
   "name": "python",
   "nbconvert_exporter": "python",
   "pygments_lexer": "ipython3",
   "version": "3.11.10"
  }
 },
 "nbformat": 4,
 "nbformat_minor": 4
}
