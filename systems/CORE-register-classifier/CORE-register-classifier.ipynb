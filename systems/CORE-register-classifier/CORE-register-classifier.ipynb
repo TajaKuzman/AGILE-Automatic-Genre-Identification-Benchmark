{
 "cells": [
  {
   "cell_type": "code",
   "execution_count": 1,
   "metadata": {},
   "outputs": [
    {
     "name": "stdout",
     "output_type": "stream",
     "text": [
      "env: CUDA_DEVICE_ORDER=PCI_BUS_ID\n",
      "env: CUDA_VISIBLE_DEVICES=1\n"
     ]
    }
   ],
   "source": [
    "%env CUDA_DEVICE_ORDER=PCI_BUS_ID\n",
    "%env CUDA_VISIBLE_DEVICES=1"
   ]
  },
  {
   "cell_type": "code",
   "execution_count": 2,
   "metadata": {},
   "outputs": [
    {
     "name": "stderr",
     "output_type": "stream",
     "text": [
      "/home/tajak/miniconda3/envs/emma_nova2024/lib/python3.11/site-packages/tqdm/auto.py:21: TqdmWarning: IProgress not found. Please update jupyter and ipywidgets. See https://ipywidgets.readthedocs.io/en/stable/user_install.html\n",
      "  from .autonotebook import tqdm as notebook_tqdm\n"
     ]
    }
   ],
   "source": [
    "import torch\n",
    "from transformers import AutoModelForSequenceClassification, AutoTokenizer\n",
    "import pandas as pd\n",
    "import json\n",
    "from scipy.special import softmax"
   ]
  },
  {
   "cell_type": "code",
   "execution_count": 3,
   "metadata": {},
   "outputs": [
    {
     "name": "stdout",
     "output_type": "stream",
     "text": [
      "(272, 4) (790, 6)\n"
     ]
    }
   ],
   "source": [
    "# Load the test datasets from the GitHub repositories (access to them is obtained by request to the AGILE repository owner)\n",
    "\n",
    "en_ginco = pd.read_json(\"../../datasets/EN-GINCO-test-dataset/EN-GINCO.jsonl\", lines=True)\n",
    "x_ginco = pd.read_json(\"../../datasets/X-GINCO-test-set/X-GINCO.jsonl\", lines=True)\n",
    "\n",
    "print(en_ginco.shape, x_ginco.shape)"
   ]
  },
  {
   "cell_type": "code",
   "execution_count": 11,
   "metadata": {},
   "outputs": [],
   "source": [
    "def map_labels(predicted_labels):\n",
    "\n",
    "\t# Mapping based on mappings presented in https://arxiv.org/pdf/2406.19892v2\n",
    "\tcore_to_xgenre_mapping = {\n",
    "\t\t# machine-translated\n",
    "\t\t'MT': \"Other\",\n",
    "\t\t# Lyrical\n",
    "\t\t'LY': 'Prose/Lyrical',\n",
    "\t\t# Spoken\n",
    "\t\t'SP': \"Other\",\n",
    "\t\t# Interview\n",
    "\t\t'it': \"Other\",\n",
    "\t\t# Interactive Discussion\n",
    "\t\t'ID': \"Forum\",\n",
    "\t\t# Narrative\n",
    "\t\t'NA': \"News\",\n",
    "\t\t# news report\n",
    "\t\t'ne': \"News\",\n",
    "\t\t# sports report\n",
    "\t\t'sr': \"News\",\n",
    "\t\t# narrative blog\n",
    "\t\t'nb': \"Opinion/Argumentation\", \n",
    "\t\t# How-to /Instructions\n",
    "\t\t'HI': \"Instruction\",\n",
    "\t\t# Recipe\n",
    "\t\t're': \"Instruction\",\n",
    "\t\t# Informational description\n",
    "\t\t'IN': 'Information/Explanation',\n",
    "\t\t# Encyclopedia article\n",
    "\t\t'en': 'Information/Explanation',\n",
    "\t\t# Research article\n",
    "\t\t'ra': 'Information/Explanation', \n",
    "\t\t# Description of a thing or person\n",
    "\t\t'dtp': 'Information/Explanation',\n",
    "\t\t# Frequently asked questions\n",
    "\t\t'fi': \"Instruction\",\n",
    "\t\t# Legal terms and conditions\n",
    "\t\t'lt': \"Legal\",\n",
    "\t\t#Opinion\n",
    "\t\t'OP': 'Opinion/Argumentation',\n",
    "\t\t# Review\n",
    "\t\t'rv': 'Opinion/Argumentation',\n",
    "\t\t# Opinion blog\n",
    "\t\t'ob': 'Opinion/Argumentation',\n",
    "\t\t# Denominational religious blog or sermon\n",
    "\t\t'rs': \"Prose/Lyrical\",\n",
    "\t\t# Advice\n",
    "\t\t'av': 'Opinion/Argumentation',\n",
    "\t\t# Informational persuasion\n",
    "\t\t'IP': \"Promotion\",\n",
    "\t\t# Description with intent to sell\n",
    "\t\t'ds': \"Promotion\",\n",
    "\t\t# News & opinion blog or editorial\n",
    "\t\t'ed': 'Opinion/Argumentation'\n",
    "\t}\n",
    "\n",
    "\tmapped_labels = []\n",
    "\n",
    "\tfor i in predicted_labels:\n",
    "\t\tif len(i) == 1:\n",
    "\t\t\tcur_label = core_to_xgenre_mapping[i[0]]\n",
    "\t\t\tmapped_labels.append(cur_label)\n",
    "\t\telif len(i) == 0:\n",
    "\t\t\tmapped_labels.append(\"Mix\")\n",
    "\t\t# mapping if the subcategory is predicted\n",
    "\t\telif len(i) >= 2:\n",
    "\t\t\tif i[-1] in ['it', 'ne', 'sr', 'nb', 're', 'en', 'ra', 'dtp', 'fi', 'lt', 'rv', 'ob', 'rs', 'av', 'ds', 'ed']:\n",
    "\t\t\t\tmapped_labels.append(core_to_xgenre_mapping[i[-1]])\n",
    "\t\t\telse:\n",
    "\t\t\t\tmapped_labels.append(\"Mix\")\n",
    "\t\telse:\n",
    "\t\t\t\tmapped_labels.append(i)\n",
    "\t\t\t\tprint(\"Mapping unsucessful:\", i)\n",
    "\t\n",
    "\treturn mapped_labels"
   ]
  },
  {
   "cell_type": "code",
   "execution_count": 13,
   "metadata": {},
   "outputs": [],
   "source": [
    "def predict(df_test_name):\n",
    "\tdfs = {\n",
    "\t\t\"en-ginco\": en_ginco,\n",
    "\t\t\"x-ginco\": x_ginco\n",
    "\t}\n",
    "\n",
    "\tdf = dfs[df_test_name]\n",
    "\n",
    "\ttexts = df[\"text\"].to_list()\n",
    "\n",
    "\tmodel_id = \"TurkuNLP/web-register-classification-multilingual\"\n",
    "\n",
    "\t# Load model and tokenizer\n",
    "\tmodel = AutoModelForSequenceClassification.from_pretrained(model_id)\n",
    "\tmodel.to(\"cuda:0\")\n",
    "\n",
    "\ttokenizer = AutoTokenizer.from_pretrained(\"xlm-roberta-large\")\n",
    "\n",
    "\tpredicted_labels = []\n",
    "\n",
    "\tfor text in texts:\n",
    "\t\t# Tokenize text\n",
    "\t\tinputs = tokenizer([text], return_tensors=\"pt\", padding=True, truncation=True, max_length=512).to(\"cuda:0\")\n",
    "\n",
    "\t\twith torch.no_grad():\n",
    "\t\t\toutputs = model(**inputs)\n",
    "\n",
    "\t\t# Apply sigmoid to the logits to get probabilities\n",
    "\t\tprobabilities = torch.sigmoid(outputs.logits).squeeze()\n",
    "\n",
    "\t\t# Determine a threshold for predicting labels\n",
    "\t\tthreshold = 0.5\n",
    "\t\tpredicted_label_indices = (probabilities > threshold).nonzero(as_tuple=True)[0]\n",
    "\n",
    "\t\t# Extract readable labels using id2label\n",
    "\t\tid2label = model.config.id2label\n",
    "\t\tpredicted_label = [id2label[idx.item()] for idx in predicted_label_indices]\n",
    "\n",
    "\t\tpredicted_labels.append(predicted_label)\n",
    "\n",
    "\tmapped_labels = map_labels(predicted_labels)\n",
    "\n",
    "\tprint(set(mapped_labels))\n",
    "\n",
    "\tprint(len(texts))\n",
    "\tprint(len(mapped_labels))\n",
    "\n",
    "\tcurrent_results = {\n",
    "\t\t\"system\": \"CORE register classifier\",\n",
    "\t\t\"predictions\": [\n",
    "\t\t\t{\n",
    "\t\t\t\"train\": \"Multilingual CORE corpora\",\n",
    "\t\t\t\"test\": \"{}\".format(df_test_name),\n",
    "\t\t\t\"predictions\": mapped_labels,\n",
    "\t\t\t}\n",
    "\t\t]\n",
    "\t\t}\n",
    "\n",
    "\t# Save the results as a new json\n",
    "\twith open(\"submissions/submission-{}-{}.json\".format(\"CORE\", df_test_name), \"w\") as file:\n",
    "\t\tjson.dump(current_results, file)\n",
    "\n",
    "\tprint(\"Classification with {} on {} finished.\".format(\"CORE\", df_test_name))\n"
   ]
  },
  {
   "cell_type": "code",
   "execution_count": 14,
   "metadata": {},
   "outputs": [
    {
     "name": "stdout",
     "output_type": "stream",
     "text": [
      "{'Opinion/Argumentation', 'Instruction', 'Prose/Lyrical', 'Legal', 'Mix', 'News', 'Other', 'Forum', 'Information/Explanation', 'Promotion'}\n",
      "272\n",
      "272\n",
      "Classification with CORE on en-ginco finished.\n"
     ]
    }
   ],
   "source": [
    "predict(\"en-ginco\")"
   ]
  },
  {
   "cell_type": "code",
   "execution_count": 15,
   "metadata": {},
   "outputs": [
    {
     "name": "stdout",
     "output_type": "stream",
     "text": [
      "{'Opinion/Argumentation', 'Instruction', 'Prose/Lyrical', 'Legal', 'Other', 'News', 'Mix', 'Forum', 'Information/Explanation', 'Promotion'}\n",
      "790\n",
      "790\n",
      "Classification with CORE on x-ginco finished.\n"
     ]
    }
   ],
   "source": [
    "predict(\"x-ginco\")"
   ]
  }
 ],
 "metadata": {
  "kernelspec": {
   "display_name": "emma_nova2024",
   "language": "python",
   "name": "python3"
  },
  "language_info": {
   "codemirror_mode": {
    "name": "ipython",
    "version": 3
   },
   "file_extension": ".py",
   "mimetype": "text/x-python",
   "name": "python",
   "nbconvert_exporter": "python",
   "pygments_lexer": "ipython3",
   "version": "3.11.10"
  }
 },
 "nbformat": 4,
 "nbformat_minor": 2
}
