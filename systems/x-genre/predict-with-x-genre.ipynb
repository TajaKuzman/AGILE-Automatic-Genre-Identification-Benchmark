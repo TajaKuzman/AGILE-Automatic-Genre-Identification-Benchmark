{
 "cells": [
  {
   "cell_type": "code",
   "execution_count": 1,
   "metadata": {},
   "outputs": [
    {
     "name": "stdout",
     "output_type": "stream",
     "text": [
      "env: CUDA_DEVICE_ORDER=PCI_BUS_ID\n",
      "env: CUDA_VISIBLE_DEVICES=1\n"
     ]
    }
   ],
   "source": [
    "%env CUDA_DEVICE_ORDER=PCI_BUS_ID\n",
    "%env CUDA_VISIBLE_DEVICES=1"
   ]
  },
  {
   "cell_type": "code",
   "execution_count": 5,
   "metadata": {},
   "outputs": [],
   "source": [
    "from transformers import AutoTokenizer\n",
    "import sys\n",
    "import torch\n",
    "import json\n",
    "from scipy.special import softmax\n",
    "from transformers import AutoModelForSequenceClassification\n",
    "import argparse\n",
    "import pandas as pd"
   ]
  },
  {
   "cell_type": "code",
   "execution_count": 6,
   "metadata": {},
   "outputs": [
    {
     "name": "stdout",
     "output_type": "stream",
     "text": [
      "(272, 4) (790, 6)\n"
     ]
    }
   ],
   "source": [
    "# Load the test datasets from the GitHub repositories (access to them is obtained by request to the AGILE repository owner)\n",
    "\n",
    "en_ginco = pd.read_json(\"../../datasets/EN-GINCO-test-dataset/EN-GINCO.jsonl\", lines=True)\n",
    "x_ginco = pd.read_json(\"../../datasets/X-GINCO-test-set/X-GINCO.jsonl\", lines=True)\n",
    "\n",
    "print(en_ginco.shape, x_ginco.shape)"
   ]
  },
  {
   "cell_type": "code",
   "execution_count": 7,
   "metadata": {},
   "outputs": [
    {
     "data": {
      "text/html": [
       "<div>\n",
       "<style scoped>\n",
       "    .dataframe tbody tr th:only-of-type {\n",
       "        vertical-align: middle;\n",
       "    }\n",
       "\n",
       "    .dataframe tbody tr th {\n",
       "        vertical-align: top;\n",
       "    }\n",
       "\n",
       "    .dataframe thead th {\n",
       "        text-align: right;\n",
       "    }\n",
       "</style>\n",
       "<table border=\"1\" class=\"dataframe\">\n",
       "  <thead>\n",
       "    <tr style=\"text-align: right;\">\n",
       "      <th></th>\n",
       "      <th>text</th>\n",
       "      <th>labels</th>\n",
       "      <th>dataset</th>\n",
       "      <th>language</th>\n",
       "    </tr>\n",
       "  </thead>\n",
       "  <tbody>\n",
       "    <tr>\n",
       "      <th>0</th>\n",
       "      <td>Welcome to KBismarck.org! This is a community ...</td>\n",
       "      <td>Information/Explanation</td>\n",
       "      <td>EN-GINCO</td>\n",
       "      <td>English</td>\n",
       "    </tr>\n",
       "    <tr>\n",
       "      <th>1</th>\n",
       "      <td>Why graft thrives in postconflict zones &lt;p&gt; A ...</td>\n",
       "      <td>News</td>\n",
       "      <td>EN-GINCO</td>\n",
       "      <td>English</td>\n",
       "    </tr>\n",
       "  </tbody>\n",
       "</table>\n",
       "</div>"
      ],
      "text/plain": [
       "                                                text                   labels  \\\n",
       "0  Welcome to KBismarck.org! This is a community ...  Information/Explanation   \n",
       "1  Why graft thrives in postconflict zones <p> A ...                     News   \n",
       "\n",
       "    dataset language  \n",
       "0  EN-GINCO  English  \n",
       "1  EN-GINCO  English  "
      ]
     },
     "execution_count": 7,
     "metadata": {},
     "output_type": "execute_result"
    }
   ],
   "source": [
    "en_ginco.head(2)"
   ]
  },
  {
   "cell_type": "code",
   "execution_count": 9,
   "metadata": {},
   "outputs": [],
   "source": [
    "def predict_genre(df_test_name):\n",
    "    dfs = {\n",
    "        \"en-ginco\": en_ginco,\n",
    "        \"x-ginco\": x_ginco\n",
    "    }\n",
    "\n",
    "    df = dfs[df_test_name]\n",
    "\n",
    "    texts = df[\"text\"].to_list()\n",
    "\n",
    "    prediction_list = []\n",
    "\n",
    "    model = AutoModelForSequenceClassification.from_pretrained(\"classla/xlm-roberta-base-multilingual-text-genre-classifier\")\n",
    "    model.to(\"cuda:0\")\n",
    "\n",
    "    tokenizer = AutoTokenizer.from_pretrained(\"classla/xlm-roberta-base-multilingual-text-genre-classifier\")\n",
    "\n",
    "    labels = [\"Other\", \"Information/Explanation\", \"News\", \"Instruction\", \"Opinion/Argumentation\", \"Forum\", \"Prose/Lyrical\", \"Legal\", \"Promotion\"]\n",
    "\n",
    "    def transcode(logit):\n",
    "        cats=sorted(zip(labels,softmax(logit)),key=lambda x:-x[1])\n",
    "        if cats[0][1]>=0.8:\n",
    "            label=cats[0][0]\n",
    "        else:\n",
    "            label='Mix'\n",
    "        return label\n",
    "\n",
    "    inputs = tokenizer(texts, max_length=512, truncation=True, padding=True, return_tensors=\"pt\").to(\"cuda:0\")\n",
    "\n",
    "    with torch.no_grad():\n",
    "        logits = model(**inputs).logits\n",
    "\n",
    "    for idx in range(len(logits)):\n",
    "        current_logit = logits[idx].tolist()\n",
    "        prediction_list.append(transcode(current_logit))\n",
    "    \n",
    "    # Create a json with results\n",
    "\n",
    "    current_results = {\n",
    "        \"system\": \"X-GENRE classifier\",\n",
    "        \"predictions\": [\n",
    "            {\n",
    "            \"train\": \"X-GENRE (train split)\",\n",
    "            \"test\": \"{}\".format(df_test_name),\n",
    "            \"predictions\": prediction_list,\n",
    "            }\n",
    "        ]\n",
    "        }\n",
    "\n",
    "    # Save the results as a new json\n",
    "    with open(\"submissions/submission-{}-{}.json\".format(\"X-GENRE\", df_test_name), \"w\") as file:\n",
    "        json.dump(current_results, file)\n",
    "\n",
    "    print(\"Classification with {} on {} finished.\".format(\"X-GENRE\", df_test_name))"
   ]
  },
  {
   "cell_type": "code",
   "execution_count": 10,
   "metadata": {},
   "outputs": [
    {
     "name": "stdout",
     "output_type": "stream",
     "text": [
      "Classification with X-GENRE on en-ginco finished.\n"
     ]
    }
   ],
   "source": [
    "predict_genre(\"en-ginco\")"
   ]
  },
  {
   "cell_type": "code",
   "execution_count": 11,
   "metadata": {},
   "outputs": [
    {
     "name": "stdout",
     "output_type": "stream",
     "text": [
      "Classification with X-GENRE on x-ginco finished.\n"
     ]
    }
   ],
   "source": [
    "predict_genre(\"x-ginco\")"
   ]
  }
 ],
 "metadata": {
  "kernelspec": {
   "display_name": "emma_nova2024",
   "language": "python",
   "name": "python3"
  },
  "language_info": {
   "codemirror_mode": {
    "name": "ipython",
    "version": 3
   },
   "file_extension": ".py",
   "mimetype": "text/x-python",
   "name": "python",
   "nbconvert_exporter": "python",
   "pygments_lexer": "ipython3",
   "version": "3.11.10"
  }
 },
 "nbformat": 4,
 "nbformat_minor": 2
}
